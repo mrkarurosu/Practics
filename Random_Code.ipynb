{
  "nbformat": 4,
  "nbformat_minor": 0,
  "metadata": {
    "colab": {
      "provenance": []
    },
    "kernelspec": {
      "name": "python3",
      "display_name": "Python 3"
    },
    "language_info": {
      "name": "python"
    }
  },
  "cells": [
    {
      "cell_type": "code",
      "execution_count": 5,
      "metadata": {
        "colab": {
          "base_uri": "https://localhost:8080/"
        },
        "id": "3unQpqhvO9bq",
        "outputId": "b1592564-8c20-4bab-c5ec-ab101c16e5ea"
      },
      "outputs": [
        {
          "output_type": "stream",
          "name": "stdout",
          "text": [
            "0.9674571647518895\n",
            "0.6262826593259702\n",
            "0.6498590351738486\n"
          ]
        }
      ],
      "source": [
        "#Manipulating random numbers with the random module\n",
        "\n",
        "import random\n",
        "for i in range(3):\n",
        "  print(random.random())\n"
      ]
    },
    {
      "cell_type": "code",
      "source": [
        "#uniform(a, b) : will generate a random float between   a  and  b .\n",
        "\n",
        "#randint(a, b) : as its name suggests, this one is similar to   uniform  except that the random number generated is an integer this time!\n",
        "\n",
        "print('Example of the uniform function:')\n",
        "for i in range(3):\n",
        "  print(random.uniform(5,10))\n",
        "  print('.........................')\n",
        "\n",
        "  print('Example of randint function:')\n",
        "  for i in range(3):\n",
        "    print(random.randint(5,10))"
      ],
      "metadata": {
        "colab": {
          "base_uri": "https://localhost:8080/"
        },
        "id": "icR1P3G3QY-b",
        "outputId": "a5d4282d-fb42-4ab3-fe6d-09bd0c57083b"
      },
      "execution_count": 8,
      "outputs": [
        {
          "output_type": "stream",
          "name": "stdout",
          "text": [
            "Example of the uniform function:\n",
            "8.23543178755456\n",
            ".........................\n",
            "Example of randint function:\n",
            "5\n",
            "7\n",
            "5\n",
            "8.585483982590056\n",
            ".........................\n",
            "Example of randint function:\n",
            "5\n",
            "5\n",
            "7\n",
            "5.574028636449375\n",
            ".........................\n",
            "Example of randint function:\n",
            "10\n",
            "7\n",
            "7\n"
          ]
        }
      ]
    },
    {
      "cell_type": "code",
      "source": [
        "#Generate a Random Number According to a Given Distribution\n",
        "\n",
        "#gauss(mean, standard_deviation)\n",
        "\n",
        "for i in range(10):\n",
        "  print(random.gauss(0,1))"
      ],
      "metadata": {
        "colab": {
          "base_uri": "https://localhost:8080/"
        },
        "id": "dUXLG_KiciTH",
        "outputId": "adb093c7-41c0-4f99-851c-493a03ffd0ec"
      },
      "execution_count": 9,
      "outputs": [
        {
          "output_type": "stream",
          "name": "stdout",
          "text": [
            "0.7140513304633701\n",
            "1.12921406016228\n",
            "0.23636967103600187\n",
            "-0.44753778665947724\n",
            "-0.6806451511645095\n",
            "0.19837788149706204\n",
            "-0.593596270636151\n",
            "-0.325144588606148\n",
            "0.7930344534841599\n",
            "-0.20604623174505504\n"
          ]
        }
      ]
    },
    {
      "cell_type": "code",
      "source": [
        "#Choose Randomly From a List: Subsampling\n",
        "\n",
        "list=['one', 'two','three','four','five']\n",
        "for i in range(3):\n",
        "  print(random.choice(list))\n",
        "\n",
        " \n",
        "  "
      ],
      "metadata": {
        "colab": {
          "base_uri": "https://localhost:8080/"
        },
        "id": "EjDl3AABfYY7",
        "outputId": "e28ee6a5-d89a-44ea-f37c-e8b9d706a810"
      },
      "execution_count": 19,
      "outputs": [
        {
          "output_type": "stream",
          "name": "stdout",
          "text": [
            "one\n",
            "five\n",
            "four\n"
          ]
        }
      ]
    },
    {
      "cell_type": "code",
      "source": [
        "#Choices \n",
        "list=['one', 'two','three','four','five']\n",
        "\n",
        "print(random.choices(list,k=2))\n",
        "print(random.choices(list,k=3))\n",
        "\n",
        "#the second line, we get “two” returned twice, because the first “two” was effectively \n",
        "#put back into the list once it was initially drawn."
      ],
      "metadata": {
        "colab": {
          "base_uri": "https://localhost:8080/"
        },
        "id": "MAEMGVJ9hFqE",
        "outputId": "79026629-3b5b-4a97-862d-fe835680093f"
      },
      "execution_count": 25,
      "outputs": [
        {
          "output_type": "stream",
          "name": "stdout",
          "text": [
            "['one', 'one']\n",
            "['two', 'three', 'two']\n"
          ]
        }
      ]
    },
    {
      "cell_type": "code",
      "source": [
        "#To fix this I can use Subsampling, a function for a sample without replacement, isa sample:\n",
        "\n",
        "print(random.sample(list,2))\n",
        "print(random.sample(list,3))\n",
        "\n",
        "#In data analysis, this concept of subsampling is essential, as it can select a \n",
        "#sample from an initial population. In statistics, a sample is a set of individuals \n",
        "#representative of a population. The use of a subsample is generally a solution to a \n",
        "#practical constraint (lack of time, space, financial cost, etc.) that does not allow \n",
        "#an exhaustive study of the entire population."
      ],
      "metadata": {
        "colab": {
          "base_uri": "https://localhost:8080/"
        },
        "id": "oGfQYrwuiyY5",
        "outputId": "bf714a85-5da7-4805-e565-0b01c67d2b89"
      },
      "execution_count": 27,
      "outputs": [
        {
          "output_type": "stream",
          "name": "stdout",
          "text": [
            "['four', 'three']\n",
            "['five', 'one', 'four']\n"
          ]
        }
      ]
    },
    {
      "cell_type": "code",
      "source": [
        "import random\n",
        " \n",
        "n = random.uniform(10,19)\n",
        "print(n)"
      ],
      "metadata": {
        "colab": {
          "base_uri": "https://localhost:8080/"
        },
        "id": "bPHZpcGLj7GW",
        "outputId": "a3673e86-ee68-4ada-f52c-f0b7d66ba687"
      },
      "execution_count": 87,
      "outputs": [
        {
          "output_type": "stream",
          "name": "stdout",
          "text": [
            "10.5885152016971\n"
          ]
        }
      ]
    },
    {
      "cell_type": "code",
      "source": [
        "#Let's consider two games of chance: \n",
        "\n",
        "##1)First, a game that we will call A, which is a simple coin flip with a biased \n",
        "##coin (tails with a probability of p=0.49). The player bets one dollar and flips \n",
        "##the coin: if they get tails, they win one dollar and recoup their bet, \n",
        "##otherwise they lose their bet.\n",
        "\n",
        "##2)Then, a game that we will call B, which is a game with two biased coins. \n",
        "##The first coin gives tails with probability p1 = 0.09 and the second coin gives tails \n",
        "##with probability p2 = 0.74. The player can only bet one dollar at a time! However, at each flip, \n",
        "##we look at the player's total amount of money to determine which coin to flip: if the amount is a \n",
        "##multiple of three, we flip the first coin, otherwise we flip the second coin. As in game A, \n",
        "##the player recoups their bet plus an extra dollar if the chosen coin lands on tails, \n",
        "##otherwise they lose their bet.\n",
        "\n",
        "#A game is considered won when a player finishes with more money than they started with after playing \n",
        "#a large number of rounds (e.g., several hundred). Implement these two games of chance with Python, \n",
        "#using the libraries seen earlier, considering that the player starts with a capital of $1,000. \n",
        "\n",
        "\n",
        "import random\n",
        "\n",
        "# Game A\n",
        "def game_A():\n",
        "    capital = 1000\n",
        "    for i in range(1000):\n",
        "        if random.random() < 0.49:\n",
        "            capital += 1\n",
        "        else:\n",
        "            capital -= 1\n",
        "        if capital <= 0:\n",
        "            return False\n",
        "    return True\n",
        "\n",
        "# Game B\n",
        "def game_B():\n",
        "    capital = 1000\n",
        "    for i in range(1000):\n",
        "        if capital % 3 == 0:\n",
        "            if random.random() < 0.09:\n",
        "                capital += 1\n",
        "            else:\n",
        "                capital -= 1\n",
        "        else:\n",
        "            if random.random() < 0.74:\n",
        "                capital += 1\n",
        "            else:\n",
        "                capital -= 1\n",
        "        if capital <= 0:\n",
        "            return False\n",
        "    return True\n",
        "\n",
        "# Run the games\n",
        "result_A = game_A()\n",
        "result_B = game_B()\n",
        "\n",
        "# Print the results\n",
        "if result_A and result_B:\n",
        "    print(\"Both games are winners.\")\n",
        "elif result_A:\n",
        "    print(\"Game A is a winner while Game B is a loser.\")\n",
        "elif result_B:\n",
        "    print(\"Game B is a winner while Game A is a loser.\")\n",
        "else:\n",
        "    print(\"Both games are losers.\")"
      ],
      "metadata": {
        "colab": {
          "base_uri": "https://localhost:8080/"
        },
        "id": "1PFI6Z19tAbz",
        "outputId": "359ba73c-0fde-4672-8b2a-0837a0d2a312"
      },
      "execution_count": 93,
      "outputs": [
        {
          "output_type": "stream",
          "name": "stdout",
          "text": [
            "Both games are winners.\n"
          ]
        }
      ]
    }
  ]
}