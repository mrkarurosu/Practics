{
  "nbformat": 4,
  "nbformat_minor": 0,
  "metadata": {
    "colab": {
      "provenance": []
    },
    "kernelspec": {
      "name": "python3",
      "display_name": "Python 3"
    },
    "language_info": {
      "name": "python"
    }
  },
  "cells": [
    {
      "cell_type": "code",
      "source": [
        "#add 100 to our savings\n",
        "savingsAccount = 1000\n",
        "savingsAccount = savingsAccount + 100 \n",
        "\n",
        "\n",
        "#remove 50 from our checking account\n",
        "checkingAccount = 10000\n",
        "checkingAccount = checkingAccount - 50\n",
        "\n",
        "\n",
        "#calcule the numbers of days to save to reach 5000\n",
        "numbersDayssave = (5000 - checkingAccount) /500\n",
        "\n",
        "\n",
        "#update our checking account (again) after the daily gains/losses\n",
        "checkingAccount = checkingAccount + (30-10)*7\n",
        "print(checkingAccount)\n",
        "print(checkingAccount)\n",
        "print(numbersDayssave)  \n",
        " "
      ],
      "metadata": {
        "id": "VY2cPk1bUQnR",
        "colab": {
          "base_uri": "https://localhost:8080/"
        },
        "outputId": "339310b8-382b-4fe4-f56d-016e9ec54e53"
      },
      "execution_count": null,
      "outputs": [
        {
          "output_type": "stream",
          "name": "stdout",
          "text": [
            "10090\n",
            "10090\n",
            "-9.9\n"
          ]
        }
      ]
    },
    {
      "cell_type": "code",
      "source": [],
      "metadata": {
        "id": "bNoXQBDR5NAB"
      },
      "execution_count": null,
      "outputs": []
    },
    {
      "cell_type": "code",
      "source": [
        "#long version\n",
        "account = 200\n",
        "savings = 3000\n",
        "\n",
        "#To do: modify the following line with the simplyfied operator +=\n",
        "##savings = savings + 500\n",
        "savings += 500\n",
        "print(savings)"
      ],
      "metadata": {
        "colab": {
          "base_uri": "https://localhost:8080/"
        },
        "id": "68dcEoXM9eOy",
        "outputId": "1f68fa4f-d39b-4788-e7ea-e73a77ed58df"
      },
      "execution_count": null,
      "outputs": [
        {
          "output_type": "stream",
          "name": "stdout",
          "text": [
            "3500\n"
          ]
        }
      ]
    },
    {
      "cell_type": "code",
      "source": [
        "savingsAccount = 10000\n",
        "rate = 0.75\n",
        "interest = savingsAccount * (rate/100)\n",
        "print(\"your account balance was \" , savingsAccount, \"$\\nyou earned\", interest, \"$ this year\")\n",
        "\n"
      ],
      "metadata": {
        "colab": {
          "base_uri": "https://localhost:8080/"
        },
        "id": "4sg46EfkAzAc",
        "outputId": "7f143bfc-2d34-4093-e124-d297a2c3c052"
      },
      "execution_count": null,
      "outputs": [
        {
          "output_type": "stream",
          "name": "stdout",
          "text": [
            "your account balance was  10000 $\n",
            "you earned 75.0 $ this year\n"
          ]
        }
      ]
    },
    {
      "cell_type": "code",
      "source": [
        "#Changing a float result to integer\n",
        "\n",
        "savingsAccount = 10000\n",
        "rate = 0.75\n",
        "\n",
        "interest = savingsAccount * (rate/100)\n",
        "interest=int(interest)\n",
        "\n",
        "print(interest)"
      ],
      "metadata": {
        "colab": {
          "base_uri": "https://localhost:8080/"
        },
        "id": "VvksWp4JGs0t",
        "outputId": "b8d5ade8-4b3c-49b6-b649-525a705973dc"
      },
      "execution_count": null,
      "outputs": [
        {
          "output_type": "stream",
          "name": "stdout",
          "text": [
            "75\n"
          ]
        }
      ]
    },
    {
      "cell_type": "code",
      "source": [
        "favoritecity = \"New York\"\n",
        "favoritecitytwo = \"Chicago\"\n",
        "favorites = \"my favorites cities are\" \"  \" + favoritecity + \"and\"+ favoritecitytwo\n",
        "print(favorites)"
      ],
      "metadata": {
        "colab": {
          "base_uri": "https://localhost:8080/"
        },
        "id": "i5CPqhI4OBV8",
        "outputId": "317cf7af-ac85-4596-d09f-82eb639f3b38"
      },
      "execution_count": null,
      "outputs": [
        {
          "output_type": "stream",
          "name": "stdout",
          "text": [
            "my favorites cities are  New YorkandChicago\n"
          ]
        }
      ]
    },
    {
      "cell_type": "code",
      "source": [
        "#using concatenation\n",
        "City = \"Sidney\"\n",
        "numberTrips = 5\n",
        "history = \"I've been to\"  \" \" + City + str(numberTrips) + \"times\" \n",
        "print(history)\n"
      ],
      "metadata": {
        "colab": {
          "base_uri": "https://localhost:8080/"
        },
        "id": "qhNEoefcS7ru",
        "outputId": "967e4144-c169-479e-e41d-512982d654a8"
      },
      "execution_count": null,
      "outputs": [
        {
          "output_type": "stream",
          "name": "stdout",
          "text": [
            "I've been to Sidney5times\n"
          ]
        }
      ]
    },
    {
      "cell_type": "code",
      "source": [
        "#Using functions\n",
        "a=\"apple\"\n",
        "print(len(a))\n",
        "print(type(a))\n",
        "print(pow(4,2))\n",
        "print(abs(-100))"
      ],
      "metadata": {
        "colab": {
          "base_uri": "https://localhost:8080/"
        },
        "id": "I9TLQb2p9YiF",
        "outputId": "e3c1a768-520b-47b6-93ce-30d4d49937f3"
      },
      "execution_count": null,
      "outputs": [
        {
          "output_type": "stream",
          "name": "stdout",
          "text": [
            "5\n",
            "<class 'str'>\n",
            "16\n",
            "100\n"
          ]
        }
      ]
    },
    {
      "cell_type": "code",
      "source": [
        "#Using indented functions def\n",
        "def printPerimeter():\n",
        "  dimension1 = 6\n",
        "  dimension2 = 4\n",
        "  dimension3 = 3\n",
        "  perimeter = [dimension1 + dimension2 + dimension3]\n",
        "  print(perimeter)\n",
        "  printPerimeter()\n"
      ],
      "metadata": {
        "id": "nVX_EVfAEguM"
      },
      "execution_count": null,
      "outputs": []
    },
    {
      "cell_type": "code",
      "source": [
        "def printPerimeter(dimension1, dimension2, dimension3):\n",
        " printPerimeter(10, 11, 4)\n",
        " printPerimeter(2, 2, 3.5)\n",
        " perimeter = dimension1+dimension2+dimension3 \n",
        " print(perimeter)\n",
        "   "
      ],
      "metadata": {
        "id": "pb-S-NPyG6NO"
      },
      "execution_count": null,
      "outputs": []
    },
    {
      "cell_type": "code",
      "source": [
        "#using calculatePerimeter func\n",
        "def calculatePerimeter(dimension1, dimension2, dimension3):\n",
        " perimeter = dimesion1 + dimesion2 + dimesion3\n",
        " return perimeter\n",
        " perimeter1 = calculatePerimeter(6, 4, 3)\n",
        " perimeter2 = calculatePerimeter(10, 3, 11)\n",
        "\n",
        " print(\"the perimeter of my first triangle is\", perimeter1, \"and that of my second is\", perimeter2)\n",
        "\n"
      ],
      "metadata": {
        "id": "vbVITTzHL4PI"
      },
      "execution_count": null,
      "outputs": []
    },
    {
      "cell_type": "code",
      "source": [
        "def f(x):\n",
        "  return x**2+1\n",
        "  f(4)"
      ],
      "metadata": {
        "id": "GOB5XapQPrEG"
      },
      "execution_count": null,
      "outputs": []
    },
    {
      "cell_type": "code",
      "source": [
        "help(pow)"
      ],
      "metadata": {
        "colab": {
          "base_uri": "https://localhost:8080/"
        },
        "id": "8Xdx93ThUGHY",
        "outputId": "7b8f586a-6929-4e7b-adae-01ab072a47e6"
      },
      "execution_count": null,
      "outputs": [
        {
          "output_type": "stream",
          "name": "stdout",
          "text": [
            "Help on built-in function pow in module builtins:\n",
            "\n",
            "pow(base, exp, mod=None)\n",
            "    Equivalent to base**exp with 2 arguments or base**exp % mod with 3 arguments\n",
            "    \n",
            "    Some types, such as ints, are able to use a more efficient algorithm when\n",
            "    invoked using the three argument form.\n",
            "\n"
          ]
        }
      ]
    },
    {
      "cell_type": "code",
      "source": [
        "help(calculatePerimeter)"
      ],
      "metadata": {
        "colab": {
          "base_uri": "https://localhost:8080/"
        },
        "id": "zewJW2PjVM4W",
        "outputId": "df6cfb11-0fe8-4079-cb87-6ab35000cfd1"
      },
      "execution_count": null,
      "outputs": [
        {
          "output_type": "stream",
          "name": "stdout",
          "text": [
            "Help on function calculatePerimeter in module __main__:\n",
            "\n",
            "calculatePerimeter(dimension1, dimension2, dimension3)\n",
            "    #using calculatePerimeter func\n",
            "\n"
          ]
        }
      ]
    },
    {
      "cell_type": "code",
      "source": [
        "a = \"HELLO, WORLD\"\n",
        "a.lower() \n",
        "a = \"HELLO, WORLD\"\n",
        "a.capitalize() "
      ],
      "metadata": {
        "colab": {
          "base_uri": "https://localhost:8080/",
          "height": 36
        },
        "id": "AJk8BsjUZBEX",
        "outputId": "39f0f182-e707-4bb1-c214-c103a9304c3e"
      },
      "execution_count": null,
      "outputs": [
        {
          "output_type": "execute_result",
          "data": {
            "text/plain": [
              "'Hello, world'"
            ],
            "application/vnd.google.colaboratory.intrinsic+json": {
              "type": "string"
            }
          },
          "metadata": {},
          "execution_count": 49
        }
      ]
    },
    {
      "cell_type": "code",
      "source": [
        "text = \"here is an EXAMPLE of a STRING\"\n",
        "a= text.upper()\n",
        "print(a)\n",
        "print(text.capitalize())\n",
        "print(text.replace('EXAMPLE', 'test'))\n",
        "print(text.find('an'))\n",
        "print(text.find('two'))"
      ],
      "metadata": {
        "colab": {
          "base_uri": "https://localhost:8080/"
        },
        "id": "DsLMBlmJcGlB",
        "outputId": "c1bcc75f-61c7-43d2-e82f-697f496e0294"
      },
      "execution_count": null,
      "outputs": [
        {
          "output_type": "stream",
          "name": "stdout",
          "text": [
            "HERE IS AN EXAMPLE OF A STRING\n",
            "Here is an example of a string\n",
            "here is an test of a STRING\n",
            "8\n",
            "-1\n"
          ]
        }
      ]
    },
    {
      "cell_type": "code",
      "source": [
        "mySentence = 'I AM EXCITED!!'\n",
        "a = 'I AM EXCITED'\n",
        "a.lower()"
      ],
      "metadata": {
        "colab": {
          "base_uri": "https://localhost:8080/",
          "height": 36
        },
        "id": "YuZ5CAoliluy",
        "outputId": "6286b3b0-0074-40b6-c4a5-a5e89fff5d6f"
      },
      "execution_count": null,
      "outputs": [
        {
          "output_type": "execute_result",
          "data": {
            "text/plain": [
              "'i am excited'"
            ],
            "application/vnd.google.colaboratory.intrinsic+json": {
              "type": "string"
            }
          },
          "metadata": {},
          "execution_count": 51
        }
      ]
    },
    {
      "cell_type": "code",
      "source": [
        "mySentence = 'I AM EXCITED!!'\n",
        "print(mySentence.replace('EXCITED', 'calm!!'))"
      ],
      "metadata": {
        "colab": {
          "base_uri": "https://localhost:8080/"
        },
        "id": "0xj-1oCVjK1T",
        "outputId": "85e8ef4b-196d-4fca-a9c7-0f4a5b529a2d"
      },
      "execution_count": null,
      "outputs": [
        {
          "output_type": "stream",
          "name": "stdout",
          "text": [
            "I AM calm!!!!\n"
          ]
        }
      ]
    },
    {
      "cell_type": "code",
      "source": [
        "x = 10\n",
        "x += 12\n",
        "y = int(x/4)\n",
        "print(x + y)"
      ],
      "metadata": {
        "colab": {
          "base_uri": "https://localhost:8080/"
        },
        "id": "a_G-aNkQn8Lz",
        "outputId": "fd500d50-9613-4378-a34c-be2630c87add"
      },
      "execution_count": null,
      "outputs": [
        {
          "output_type": "stream",
          "name": "stdout",
          "text": [
            "27\n"
          ]
        }
      ]
    },
    {
      "cell_type": "code",
      "source": [
        "customerName=['Marion Weaver', 'Alberto Mendoza', 'Katherine Tyler', 'Isaac Steel']\n",
        "print(customerName[0])\n",
        "print(customerName[-1])\n",
        "print(customerName[1:3])\n",
        "print(customerName[:2])"
      ],
      "metadata": {
        "colab": {
          "base_uri": "https://localhost:8080/"
        },
        "id": "12MIrVwd5YrO",
        "outputId": "cfc1826e-fafe-41f2-91b0-b45a2db31dd0"
      },
      "execution_count": null,
      "outputs": [
        {
          "output_type": "stream",
          "name": "stdout",
          "text": [
            "Marion Weaver\n",
            "Isaac Steel\n",
            "['Alberto Mendoza', 'Katherine Tyler']\n",
            "['Marion Weaver', 'Alberto Mendoza']\n"
          ]
        }
      ]
    },
    {
      "cell_type": "code",
      "source": [
        "strangeList=[4,  10.2,  'Marion Weaver',   ['another List',1]]\n",
        "print(strangeList[3])\n",
        "print(strangeList[2])\n",
        "print(strangeList[1:3])\n",
        "print(strangeList[1:2])\n",
        "print(strangeList[:3])\n",
        "print(strangeList[1:4])\n",
        "print(strangeList[0:3])\n",
        "print(strangeList[1:2])\n"
      ],
      "metadata": {
        "colab": {
          "base_uri": "https://localhost:8080/"
        },
        "id": "4dh41kYa8n81",
        "outputId": "5d696b14-7b1c-41bb-9fbd-a3cd5d222990"
      },
      "execution_count": null,
      "outputs": [
        {
          "output_type": "stream",
          "name": "stdout",
          "text": [
            "['another List', 1]\n",
            "Marion Weaver\n",
            "[10.2, 'Marion Weaver']\n",
            "[10.2]\n",
            "[4, 10.2, 'Marion Weaver']\n",
            "[10.2, 'Marion Weaver', ['another List', 1]]\n",
            "[4, 10.2, 'Marion Weaver']\n",
            "[10.2]\n"
          ]
        }
      ]
    },
    {
      "cell_type": "code",
      "source": [
        "#Adding to the list\n",
        "strangeList.append(7)\n",
        "print(strangeList)\n",
        "strangeList.append('Mr macho man Randy Savage')\n",
        "strangeList.insert(1,'Flavius')\n",
        "print(strangeList)"
      ],
      "metadata": {
        "colab": {
          "base_uri": "https://localhost:8080/"
        },
        "id": "WsxeJIoZM7zs",
        "outputId": "73cc8b89-0652-47c9-eb3e-bbd635898e2b"
      },
      "execution_count": null,
      "outputs": [
        {
          "output_type": "stream",
          "name": "stdout",
          "text": [
            "[4, 10.2, 'Marion Weaver', ['another List', 1], 7]\n",
            "[4, 'Flavius', 10.2, 'Marion Weaver', ['another List', 1], 7, 'Mr macho man Randy Savage']\n"
          ]
        }
      ]
    },
    {
      "cell_type": "code",
      "source": [
        "del strangeList [9]\n",
        "print(strangeList)"
      ],
      "metadata": {
        "colab": {
          "base_uri": "https://localhost:8080/"
        },
        "id": "aQ6T3L2lO4zv",
        "outputId": "847bcb6a-3cbb-41fd-824f-448d9334e6ee"
      },
      "execution_count": null,
      "outputs": [
        {
          "output_type": "stream",
          "name": "stdout",
          "text": [
            "[4, 'Flavius', 'Flavius', 10.2, 'Marion Weaver', ['another List', 1], 7, 7, 7, 7, 'Mr macho man Randy Savage', 7, 'Mr macho man Randy Savage', 7, 'Mr macho man Randy Savage', 7, 'Mr macho man Randy Savage', 7, 'Mr macho man Randy Savage', 7, 'Mr macho man Randy Savage', 7, 'Mr macho man Randy Savage', 7, 'Mr macho man Randy Savage', 7, 'Mr macho man Randy Savage']\n"
          ]
        }
      ]
    },
    {
      "cell_type": "code",
      "source": [
        "list=[1,2,3,4,5]\n",
        "len(list)"
      ],
      "metadata": {
        "colab": {
          "base_uri": "https://localhost:8080/"
        },
        "id": "vGo-iHpuP4cu",
        "outputId": "6105530f-082e-45b4-b659-0cf686d1c9d1"
      },
      "execution_count": null,
      "outputs": [
        {
          "output_type": "execute_result",
          "data": {
            "text/plain": [
              "5"
            ]
          },
          "metadata": {},
          "execution_count": 57
        }
      ]
    },
    {
      "cell_type": "code",
      "source": [
        "guests=[]\n",
        "guests.append('Joey')\n",
        "guests.append('Martin')\n",
        "guests.append('Mary')\n",
        "print(guests)"
      ],
      "metadata": {
        "colab": {
          "base_uri": "https://localhost:8080/"
        },
        "id": "GHD3XJv2Wc8g",
        "outputId": "f3f0ac43-02ac-4ab5-fa91-dc028b863ab0"
      },
      "execution_count": null,
      "outputs": [
        {
          "output_type": "stream",
          "name": "stdout",
          "text": [
            "['Joey', 'Martin', 'Mary']\n"
          ]
        }
      ]
    },
    {
      "cell_type": "code",
      "source": [
        "#replace Martin with John\n",
        "\n",
        "guests=['Joey','Martin','Mary']\n",
        "guests[1]='John'\n",
        "for guest in guests:\n",
        "  print(guests)"
      ],
      "metadata": {
        "colab": {
          "base_uri": "https://localhost:8080/"
        },
        "id": "Hw6u1gt0W-4N",
        "outputId": "10477642-bb6d-47e7-bdae-0285838d6c0a"
      },
      "execution_count": null,
      "outputs": [
        {
          "output_type": "stream",
          "name": "stdout",
          "text": [
            "['Joey', 'John', 'Mary']\n",
            "['Joey', 'John', 'Mary']\n",
            "['Joey', 'John', 'Mary']\n"
          ]
        }
      ]
    },
    {
      "cell_type": "code",
      "source": [
        "#delete John from list\n",
        "guests=['jOey', 'John', 'Mary']\n",
        "del guests[0]\n",
        "print(guests)\n",
        "\n",
        "\n"
      ],
      "metadata": {
        "colab": {
          "base_uri": "https://localhost:8080/"
        },
        "id": "gGKq-L0sZkF9",
        "outputId": "e31b46ce-ee68-4a2b-db9c-787f6cc4da2a"
      },
      "execution_count": null,
      "outputs": [
        {
          "output_type": "stream",
          "name": "stdout",
          "text": [
            "['John', 'Mary']\n"
          ]
        }
      ]
    },
    {
      "cell_type": "code",
      "source": [
        "#another form for delete or remove from list\n",
        "guests=['Martin', 'John', 'Mary']\n",
        "guests.insert(1,'John')\n",
        "guests.remove('Martin')\n",
        "print(guests)"
      ],
      "metadata": {
        "colab": {
          "base_uri": "https://localhost:8080/"
        },
        "id": "LYAKCMxTbuTH",
        "outputId": "725ab2dd-46be-4088-c082-bb0fb6172a93"
      },
      "execution_count": null,
      "outputs": [
        {
          "output_type": "stream",
          "name": "stdout",
          "text": [
            "['John', 'John', 'Mary']\n"
          ]
        }
      ]
    },
    {
      "cell_type": "code",
      "source": [
        "#delete Mary from the list\n",
        "guests.remove('Mary')\n",
        "print(guests)"
      ],
      "metadata": {
        "colab": {
          "base_uri": "https://localhost:8080/"
        },
        "id": "_C6bU-PhcHPW",
        "outputId": "7586e658-3d26-4136-8b54-c886c825843c"
      },
      "execution_count": null,
      "outputs": [
        {
          "output_type": "stream",
          "name": "stdout",
          "text": [
            "['John', 'John']\n"
          ]
        }
      ]
    },
    {
      "cell_type": "code",
      "source": [
        "#Diccionaries, how to call them\n",
        "\n",
        "accounts={'Marion weaber':1000, 'Alberto Mendoza':150, 'Katharine Tylor':300, 'Isaac Steele':1800.74}\n",
        "print(accounts['Alberto Mendoza'])"
      ],
      "metadata": {
        "colab": {
          "base_uri": "https://localhost:8080/"
        },
        "id": "8dA6Xg1UGXXT",
        "outputId": "00da919f-1e04-4ca2-9a1c-4ddf3a6a38ff"
      },
      "execution_count": null,
      "outputs": [
        {
          "output_type": "stream",
          "name": "stdout",
          "text": [
            "150\n"
          ]
        }
      ]
    },
    {
      "cell_type": "code",
      "source": [
        "#Manipulate the items of a diccionary\n",
        "\n",
        "accounts['Marion weaber']-=2000\n",
        "accounts['Kristian Roach']=1000\n",
        "print(accounts['Kristian Roach'])"
      ],
      "metadata": {
        "colab": {
          "base_uri": "https://localhost:8080/"
        },
        "id": "MCQqnrEwHzzs",
        "outputId": "7ab442a7-6212-4554-d2a1-379063944767"
      },
      "execution_count": null,
      "outputs": [
        {
          "output_type": "stream",
          "name": "stdout",
          "text": [
            "1000\n"
          ]
        }
      ]
    },
    {
      "cell_type": "code",
      "source": [
        "#dicctionary: deleting an item using pop()\n",
        "\n",
        "accounts.pop('Alberto Mendoza')"
      ],
      "metadata": {
        "colab": {
          "base_uri": "https://localhost:8080/"
        },
        "id": "bp_bl1kZI6iM",
        "outputId": "c7fc7dde-3a11-4a6c-eb7d-5c3b6d1695aa"
      },
      "execution_count": null,
      "outputs": [
        {
          "output_type": "execute_result",
          "data": {
            "text/plain": [
              "150"
            ]
          },
          "metadata": {},
          "execution_count": 65
        }
      ]
    },
    {
      "cell_type": "code",
      "source": [
        "#diccionary: using len() command\n",
        "\n",
        "len(accounts)"
      ],
      "metadata": {
        "colab": {
          "base_uri": "https://localhost:8080/"
        },
        "id": "uaFzJUnfJsED",
        "outputId": "b42fac8a-bca6-453a-b2b6-79f875155c9c"
      },
      "execution_count": null,
      "outputs": [
        {
          "output_type": "execute_result",
          "data": {
            "text/plain": [
              "4"
            ]
          },
          "metadata": {},
          "execution_count": 66
        }
      ]
    },
    {
      "cell_type": "code",
      "source": [
        "#Understand inmutable tuples; can not be modified\n",
        "\n",
        "my_tuple=(1,2,3,'a','b')\n",
        "print(my_tuple[1])\n",
        "print(my_tuple[4])\n",
        "\n"
      ],
      "metadata": {
        "colab": {
          "base_uri": "https://localhost:8080/"
        },
        "id": "UCx7yWH-KB00",
        "outputId": "1b6538c3-1391-4eea-8b05-981769ee8931"
      },
      "execution_count": null,
      "outputs": [
        {
          "output_type": "stream",
          "name": "stdout",
          "text": [
            "2\n",
            "b\n"
          ]
        }
      ]
    },
    {
      "cell_type": "code",
      "source": [
        "#declare several variables at the same time in a tuple\n",
        "\n",
        "a,b=(1,'aple')\n",
        "print(a)\n",
        "print(b)"
      ],
      "metadata": {
        "colab": {
          "base_uri": "https://localhost:8080/"
        },
        "id": "KbgW9c3_LYXV",
        "outputId": "2d147b5f-825f-449f-b113-7ec17ddae906"
      },
      "execution_count": null,
      "outputs": [
        {
          "output_type": "stream",
          "name": "stdout",
          "text": [
            "1\n",
            "aple\n"
          ]
        }
      ]
    },
    {
      "cell_type": "code",
      "source": [
        "#error trying to modify a tuple, example\n",
        "\n",
        "my_tuple=(1,2,3,'a','b')\n",
        "my_tuple[2]=4"
      ],
      "metadata": {
        "colab": {
          "base_uri": "https://localhost:8080/",
          "height": 200
        },
        "id": "ZFFdWHBYLvV6",
        "outputId": "71568151-71b2-431c-9b31-1df88ec95498"
      },
      "execution_count": null,
      "outputs": [
        {
          "output_type": "error",
          "ename": "TypeError",
          "evalue": "ignored",
          "traceback": [
            "\u001b[0;31m---------------------------------------------------------------------------\u001b[0m",
            "\u001b[0;31mTypeError\u001b[0m                                 Traceback (most recent call last)",
            "\u001b[0;32m<ipython-input-69-4bfc7b176179>\u001b[0m in \u001b[0;36m<module>\u001b[0;34m\u001b[0m\n\u001b[1;32m      2\u001b[0m \u001b[0;34m\u001b[0m\u001b[0m\n\u001b[1;32m      3\u001b[0m \u001b[0mmy_tuple\u001b[0m\u001b[0;34m=\u001b[0m\u001b[0;34m(\u001b[0m\u001b[0;36m1\u001b[0m\u001b[0;34m,\u001b[0m\u001b[0;36m2\u001b[0m\u001b[0;34m,\u001b[0m\u001b[0;36m3\u001b[0m\u001b[0;34m,\u001b[0m\u001b[0;34m'a'\u001b[0m\u001b[0;34m,\u001b[0m\u001b[0;34m'b'\u001b[0m\u001b[0;34m)\u001b[0m\u001b[0;34m\u001b[0m\u001b[0;34m\u001b[0m\u001b[0m\n\u001b[0;32m----> 4\u001b[0;31m \u001b[0mmy_tuple\u001b[0m\u001b[0;34m[\u001b[0m\u001b[0;36m2\u001b[0m\u001b[0;34m]\u001b[0m\u001b[0;34m=\u001b[0m\u001b[0;36m4\u001b[0m\u001b[0;34m\u001b[0m\u001b[0;34m\u001b[0m\u001b[0m\n\u001b[0m",
            "\u001b[0;31mTypeError\u001b[0m: 'tuple' object does not support item assignment"
          ]
        }
      ]
    },
    {
      "cell_type": "code",
      "source": [
        "#REcap:\n",
        "\n",
        "# Lists: an ordered, editable collection where each item is associated with an index\n",
        "\n",
        "#Dictionaries: an unordered, editable collection where each item is associated with a key\n",
        "\n",
        "#Tuples: an ordered, non-mutable collection , where each item is associated with an index\n",
        "\n",
        "#The most common actions performed with lists and dictionaries are:\n",
        "\n",
        "#Access an item\n",
        "\n",
        "#Add an item\n",
        "\n",
        "#Delete an item\n",
        "\n",
        "#Modify an item\n",
        "\n",
        "#Count the number of items stored\n",
        "\n",
        "#We can perform these different actions via methods."
      ],
      "metadata": {
        "id": "gxGNHkCbMrhb"
      },
      "execution_count": null,
      "outputs": []
    },
    {
      "cell_type": "code",
      "source": [
        "#Printing information IF is available\n",
        "\n",
        "username= input('What is your name, dear stranger?')\n"
      ],
      "metadata": {
        "colab": {
          "base_uri": "https://localhost:8080/"
        },
        "id": "C8q9n0rdNFG6",
        "outputId": "2d785c9f-30e0-4ed0-9f7c-f30bbe33136e"
      },
      "execution_count": null,
      "outputs": [
        {
          "name": "stdout",
          "output_type": "stream",
          "text": [
            "What is your name, dear stranger?Carlos\n"
          ]
        }
      ]
    },
    {
      "cell_type": "code",
      "source": [
        "Store = input('Store:') \n",
        "Job_number = input('Job number:')\n",
        "Production_Number = input('Production Number:')\n",
        "Hi_Pot = input('Pass:') \n",
        "\n",
        "if len(Hi_Pot) > 4:\n",
        "    # Handle case where Hi_Pot is less than 4 characters\n",
        "    print('Hi_Pot is too short')\n",
        "else:\n",
        "    # Handle case where Hi_Pot is greater than or equal to 4 characters\n",
        "    print('Troubleshooting')\n",
        " \n"
      ],
      "metadata": {
        "colab": {
          "base_uri": "https://localhost:8080/"
        },
        "id": "8L3QMCDc-QWG",
        "outputId": "a254e81d-c831-4359-b819-64dc1c380835"
      },
      "execution_count": null,
      "outputs": [
        {
          "output_type": "stream",
          "name": "stdout",
          "text": [
            "Store:Grocery\n",
            "Job number:345612\n",
            "Production Number:865241\n",
            "Pass:Bad\n",
            "Troubleshooting\n"
          ]
        }
      ]
    },
    {
      "cell_type": "code",
      "source": [
        "import openpyxl\n",
        "\n",
        "# Load the Excel file\n",
        "workbook = openpyxl.load_workbook('data.xlsx')\n",
        "\n",
        "# Select the worksheet where you want to store the data\n",
        "worksheet = workbook.active\n",
        "\n",
        "# Get the next available row in the worksheet\n",
        "row = worksheet.max_row + 1\n",
        "\n",
        "# Collect data for each day\n",
        "while True:\n",
        "    # Collect store data\n",
        "    store = input('Enter the name of the store: ')\n",
        "    if len(store) > 0:\n",
        "        print('Store:', store)\n",
        "    else:\n",
        "        print('Invalid input. Please enter the name of the store.')\n",
        "        continue\n",
        "\n",
        "    # Collect job number data\n",
        "    job_number = input('Enter the job number for today: ')\n",
        "    if len(job_number) > 0:\n",
        "        print('Job number:', job_number)\n",
        "    else:\n",
        "        print('Invalid input. Please enter the job number for today.')\n",
        "        continue\n",
        "\n",
        "    # Collect production number data\n",
        "    production_number = input('Enter the production number for today: ')\n",
        "    if len(production_number) > 0:\n",
        "        print('Production number:', production_number)\n",
        "    else:\n",
        "        print('Invalid input. Please enter the production number for today.')\n",
        "        continue\n",
        "\n",
        "    # Collect password data\n",
        "    hi_pot = input('Enter the password for today: ')\n",
        "    if len(hi_pot) < 4:\n",
        "        print('Password is too short. Please enter a password with at least 4 characters.')\n",
        "        continue\n",
        "    else:\n",
        "        print('Password accepted.')\n",
        "\n",
        "    # Write the collected data to the Excel worksheet\n",
        "    worksheet.cell(row=row, column=1, value=store)\n",
        "    worksheet.cell(row=row, column=2, value=job_number)\n",
        "    worksheet.cell(row=row, column=3, value=production_number)\n",
        "    worksheet.cell(row=row, column=4, value=hi_pot)\n",
        "\n",
        "    # Increment the row counter\n",
        "    row += 1\n",
        "\n",
        "    # Save the changes to the Excel file\n",
        "    workbook.save('data.xlsx')\n",
        "\n",
        "    # Ask the user if they want to collect data for another day\n",
        "    another_day = input('Do you want to collect data for another day? (y/n)')\n",
        "    if another_day.lower() != 'y':\n",
        "        break\n",
        "\n",
        "\n",
        "\n"
      ],
      "metadata": {
        "colab": {
          "base_uri": "https://localhost:8080/",
          "height": 380
        },
        "id": "NCxuQ1BtDJSS",
        "outputId": "d1f6d322-ccd9-4687-8449-6e4680773084"
      },
      "execution_count": null,
      "outputs": [
        {
          "output_type": "error",
          "ename": "FileNotFoundError",
          "evalue": "ignored",
          "traceback": [
            "\u001b[0;31m---------------------------------------------------------------------------\u001b[0m",
            "\u001b[0;31mFileNotFoundError\u001b[0m                         Traceback (most recent call last)",
            "\u001b[0;32m<ipython-input-104-b48dbb8a4a15>\u001b[0m in \u001b[0;36m<module>\u001b[0;34m\u001b[0m\n\u001b[1;32m      2\u001b[0m \u001b[0;34m\u001b[0m\u001b[0m\n\u001b[1;32m      3\u001b[0m \u001b[0;31m# Load the Excel file\u001b[0m\u001b[0;34m\u001b[0m\u001b[0;34m\u001b[0m\u001b[0m\n\u001b[0;32m----> 4\u001b[0;31m \u001b[0mworkbook\u001b[0m \u001b[0;34m=\u001b[0m \u001b[0mopenpyxl\u001b[0m\u001b[0;34m.\u001b[0m\u001b[0mload_workbook\u001b[0m\u001b[0;34m(\u001b[0m\u001b[0;34m'data.xlsx'\u001b[0m\u001b[0;34m)\u001b[0m\u001b[0;34m\u001b[0m\u001b[0;34m\u001b[0m\u001b[0m\n\u001b[0m\u001b[1;32m      5\u001b[0m \u001b[0;34m\u001b[0m\u001b[0m\n\u001b[1;32m      6\u001b[0m \u001b[0;31m# Select the worksheet where you want to store the data\u001b[0m\u001b[0;34m\u001b[0m\u001b[0;34m\u001b[0m\u001b[0m\n",
            "\u001b[0;32m/usr/local/lib/python3.9/dist-packages/openpyxl/reader/excel.py\u001b[0m in \u001b[0;36mload_workbook\u001b[0;34m(filename, read_only, keep_vba, data_only, keep_links)\u001b[0m\n\u001b[1;32m    313\u001b[0m \u001b[0;34m\u001b[0m\u001b[0m\n\u001b[1;32m    314\u001b[0m     \"\"\"\n\u001b[0;32m--> 315\u001b[0;31m     reader = ExcelReader(filename, read_only, keep_vba,\n\u001b[0m\u001b[1;32m    316\u001b[0m                         data_only, keep_links)\n\u001b[1;32m    317\u001b[0m     \u001b[0mreader\u001b[0m\u001b[0;34m.\u001b[0m\u001b[0mread\u001b[0m\u001b[0;34m(\u001b[0m\u001b[0;34m)\u001b[0m\u001b[0;34m\u001b[0m\u001b[0;34m\u001b[0m\u001b[0m\n",
            "\u001b[0;32m/usr/local/lib/python3.9/dist-packages/openpyxl/reader/excel.py\u001b[0m in \u001b[0;36m__init__\u001b[0;34m(self, fn, read_only, keep_vba, data_only, keep_links)\u001b[0m\n\u001b[1;32m    122\u001b[0m     def __init__(self,  fn, read_only=False, keep_vba=KEEP_VBA,\n\u001b[1;32m    123\u001b[0m                   data_only=False, keep_links=True):\n\u001b[0;32m--> 124\u001b[0;31m         \u001b[0mself\u001b[0m\u001b[0;34m.\u001b[0m\u001b[0marchive\u001b[0m \u001b[0;34m=\u001b[0m \u001b[0m_validate_archive\u001b[0m\u001b[0;34m(\u001b[0m\u001b[0mfn\u001b[0m\u001b[0;34m)\u001b[0m\u001b[0;34m\u001b[0m\u001b[0;34m\u001b[0m\u001b[0m\n\u001b[0m\u001b[1;32m    125\u001b[0m         \u001b[0mself\u001b[0m\u001b[0;34m.\u001b[0m\u001b[0mvalid_files\u001b[0m \u001b[0;34m=\u001b[0m \u001b[0mself\u001b[0m\u001b[0;34m.\u001b[0m\u001b[0marchive\u001b[0m\u001b[0;34m.\u001b[0m\u001b[0mnamelist\u001b[0m\u001b[0;34m(\u001b[0m\u001b[0;34m)\u001b[0m\u001b[0;34m\u001b[0m\u001b[0;34m\u001b[0m\u001b[0m\n\u001b[1;32m    126\u001b[0m         \u001b[0mself\u001b[0m\u001b[0;34m.\u001b[0m\u001b[0mread_only\u001b[0m \u001b[0;34m=\u001b[0m \u001b[0mread_only\u001b[0m\u001b[0;34m\u001b[0m\u001b[0;34m\u001b[0m\u001b[0m\n",
            "\u001b[0;32m/usr/local/lib/python3.9/dist-packages/openpyxl/reader/excel.py\u001b[0m in \u001b[0;36m_validate_archive\u001b[0;34m(filename)\u001b[0m\n\u001b[1;32m     94\u001b[0m             \u001b[0;32mraise\u001b[0m \u001b[0mInvalidFileException\u001b[0m\u001b[0;34m(\u001b[0m\u001b[0mmsg\u001b[0m\u001b[0;34m)\u001b[0m\u001b[0;34m\u001b[0m\u001b[0;34m\u001b[0m\u001b[0m\n\u001b[1;32m     95\u001b[0m \u001b[0;34m\u001b[0m\u001b[0m\n\u001b[0;32m---> 96\u001b[0;31m     \u001b[0marchive\u001b[0m \u001b[0;34m=\u001b[0m \u001b[0mZipFile\u001b[0m\u001b[0;34m(\u001b[0m\u001b[0mfilename\u001b[0m\u001b[0;34m,\u001b[0m \u001b[0;34m'r'\u001b[0m\u001b[0;34m)\u001b[0m\u001b[0;34m\u001b[0m\u001b[0;34m\u001b[0m\u001b[0m\n\u001b[0m\u001b[1;32m     97\u001b[0m     \u001b[0;32mreturn\u001b[0m \u001b[0marchive\u001b[0m\u001b[0;34m\u001b[0m\u001b[0;34m\u001b[0m\u001b[0m\n\u001b[1;32m     98\u001b[0m \u001b[0;34m\u001b[0m\u001b[0m\n",
            "\u001b[0;32m/usr/lib/python3.9/zipfile.py\u001b[0m in \u001b[0;36m__init__\u001b[0;34m(self, file, mode, compression, allowZip64, compresslevel, strict_timestamps)\u001b[0m\n\u001b[1;32m   1246\u001b[0m             \u001b[0;32mwhile\u001b[0m \u001b[0;32mTrue\u001b[0m\u001b[0;34m:\u001b[0m\u001b[0;34m\u001b[0m\u001b[0;34m\u001b[0m\u001b[0m\n\u001b[1;32m   1247\u001b[0m                 \u001b[0;32mtry\u001b[0m\u001b[0;34m:\u001b[0m\u001b[0;34m\u001b[0m\u001b[0;34m\u001b[0m\u001b[0m\n\u001b[0;32m-> 1248\u001b[0;31m                     \u001b[0mself\u001b[0m\u001b[0;34m.\u001b[0m\u001b[0mfp\u001b[0m \u001b[0;34m=\u001b[0m \u001b[0mio\u001b[0m\u001b[0;34m.\u001b[0m\u001b[0mopen\u001b[0m\u001b[0;34m(\u001b[0m\u001b[0mfile\u001b[0m\u001b[0;34m,\u001b[0m \u001b[0mfilemode\u001b[0m\u001b[0;34m)\u001b[0m\u001b[0;34m\u001b[0m\u001b[0;34m\u001b[0m\u001b[0m\n\u001b[0m\u001b[1;32m   1249\u001b[0m                 \u001b[0;32mexcept\u001b[0m \u001b[0mOSError\u001b[0m\u001b[0;34m:\u001b[0m\u001b[0;34m\u001b[0m\u001b[0;34m\u001b[0m\u001b[0m\n\u001b[1;32m   1250\u001b[0m                     \u001b[0;32mif\u001b[0m \u001b[0mfilemode\u001b[0m \u001b[0;32min\u001b[0m \u001b[0mmodeDict\u001b[0m\u001b[0;34m:\u001b[0m\u001b[0;34m\u001b[0m\u001b[0;34m\u001b[0m\u001b[0m\n",
            "\u001b[0;31mFileNotFoundError\u001b[0m: [Errno 2] No such file or directory: 'data.xlsx'"
          ]
        }
      ]
    },
    {
      "cell_type": "code",
      "source": [
        "from os import name\n",
        "#Exercise:\n",
        "\n",
        "#Now design the code that will let you say hello to your user:\n",
        "\n",
        "#Ask the user their name and store their answer in a variable:   name .\n",
        "\n",
        "#Check that the  name  variable definitely contains a value (in case the user doesn't give an answer). The   len  function will help you to perform this task!\n",
        "\n",
        "#If this is the case, say Hello to your user with their name.\n",
        "\n",
        "#Otherwise, keep saying Hello to the world. \n",
        "\n",
        "name=input('What is your name, dear stranger?')\n",
        "if len(name) > 0:\n",
        "   print(\"Hello\",name, \"!\")\n",
        "else:\n",
        "   print(\"Hello, World!\")"
      ],
      "metadata": {
        "colab": {
          "base_uri": "https://localhost:8080/"
        },
        "id": "KIKsKRgeRl_S",
        "outputId": "dfa23a0e-0140-4cf4-8d40-bf5c786da6ab"
      },
      "execution_count": null,
      "outputs": [
        {
          "output_type": "stream",
          "name": "stdout",
          "text": [
            "What is your name, dear stranger?Carlos\n",
            "Hello Carlos !\n"
          ]
        }
      ]
    },
    {
      "cell_type": "code",
      "source": [
        "name=input('What is your name, dear stranger?')\n",
        "if len(name) > 0:\n",
        "   print(\"Hello\",name, \"!\")\n",
        "else:\n",
        "   print(\"Hello, World!\")"
      ],
      "metadata": {
        "colab": {
          "base_uri": "https://localhost:8080/"
        },
        "id": "J6d_3a-lVrZF",
        "outputId": "7f904f10-4849-4485-a224-810d453f881d"
      },
      "execution_count": null,
      "outputs": [
        {
          "output_type": "stream",
          "name": "stdout",
          "text": [
            "What is your name, dear stranger?Carlos\n",
            "Hello Carlos !\n"
          ]
        }
      ]
    },
    {
      "cell_type": "code",
      "source": [
        "#Use Booleans: The No-Half-Measure Type\n",
        "\n",
        "#if condition1:\n",
        "    # instructions\n",
        "#elif condition2:\n",
        "    # instructions\n",
        "#else:\n",
        "    # instructions\n",
        "\n",
        "account= input(\"What is in your account balance?\")\n",
        "account=int(account)\n",
        "\n",
        "if account >=1000:\n",
        "  print(\"loan granted!\")\n",
        "elif account>= 100 and account < 1000:\n",
        "  print(\"loan in process of validation: under study\")\n",
        "else:\n",
        "  print(\"loan refused\")\n"
      ],
      "metadata": {
        "colab": {
          "base_uri": "https://localhost:8080/"
        },
        "id": "45d61zhJY928",
        "outputId": "beb39739-03d4-4d64-983c-f057faa5c736"
      },
      "execution_count": null,
      "outputs": [
        {
          "output_type": "stream",
          "name": "stdout",
          "text": [
            "What is in your account balance?1000\n",
            "loan granted!\n"
          ]
        }
      ]
    },
    {
      "cell_type": "code",
      "source": [
        "account= input(\"What is in your account balance?\")\n",
        "account=int(account)\n",
        "\n",
        "if account >=1000:\n",
        "  print(\"loan granted!\")\n",
        "elif account>= 100 and account < 1000:\n",
        "  print(\"loan in process of validation: under study\")\n",
        "else:\n",
        "  print(\"loan refused\")\n"
      ],
      "metadata": {
        "colab": {
          "base_uri": "https://localhost:8080/"
        },
        "id": "-Yx6eXFad8SS",
        "outputId": "6ac424a9-ba8c-454e-95cb-d070d3688623"
      },
      "execution_count": null,
      "outputs": [
        {
          "output_type": "stream",
          "name": "stdout",
          "text": [
            "What is in your account balance?600\n",
            "loan in process of validation: under study\n"
          ]
        }
      ]
    },
    {
      "cell_type": "code",
      "source": [
        "account= input(\"What is in your account balance?\")\n",
        "account=int(account)\n",
        "\n",
        "if account >=1000:\n",
        "  print(\"loan granted!\")\n",
        "elif account>= 100 and account < 1000:\n",
        "  print(\"loan in process of validation: under study\")\n",
        "else:\n",
        "  print(\"loan refused\")"
      ],
      "metadata": {
        "colab": {
          "base_uri": "https://localhost:8080/"
        },
        "id": "xdITdkIZeEe8",
        "outputId": "27a4ef78-60bf-497f-fd97-8d75348061dd"
      },
      "execution_count": null,
      "outputs": [
        {
          "output_type": "stream",
          "name": "stdout",
          "text": [
            "What is in your account balance?89\n",
            "loan refused\n"
          ]
        }
      ]
    },
    {
      "cell_type": "code",
      "source": [
        "#Let's Recap\n",
        "\n",
        "#Conditions let you execute a block of code when a Boolean, variable, or expression is true (True).\n",
        "\n",
        "#Expressions use Boolean arithmetic, including logical operators and comparison operators.\n",
        "\n",
        "#You can apply several conditions with if/elif/else chains."
      ],
      "metadata": {
        "id": "DYrXXoL0ewmM"
      },
      "execution_count": null,
      "outputs": []
    },
    {
      "cell_type": "code",
      "source": [
        "a=5\n",
        "b=10\n",
        "c=7\n",
        "\n",
        "if c<a :\n",
        "  print(\"c is smaller than b\")\n",
        "else:\n",
        "  print(\"c is greater\")\n",
        "if c>b:\n",
        "  print(\"c is greater than b\")\n",
        "elif c>= a and c<b:\n",
        "  print(\"Good job Dexter!\")"
      ],
      "metadata": {
        "colab": {
          "base_uri": "https://localhost:8080/"
        },
        "id": "IKcUR9HFiMkW",
        "outputId": "b925a66c-aaf8-4a18-ea20-0a85f3883d2f"
      },
      "execution_count": null,
      "outputs": [
        {
          "output_type": "stream",
          "name": "stdout",
          "text": [
            "c is greater\n",
            "Good job Dexter!\n"
          ]
        }
      ]
    },
    {
      "cell_type": "code",
      "source": [
        "a = 5\n",
        "b = 10\n",
        "c = 7\n",
        "if c < a:\n",
        "    print(\"c is smaller than a\")\n",
        "elif c > b:\n",
        "    print(\"c is greater than b\")\n",
        "else:\n",
        "    print(\"c is between a and b\")"
      ],
      "metadata": {
        "colab": {
          "base_uri": "https://localhost:8080/"
        },
        "id": "hhM_5zeRiR2C",
        "outputId": "c1d4b678-ce62-4051-d276-83a158d33cce"
      },
      "execution_count": null,
      "outputs": [
        {
          "output_type": "stream",
          "name": "stdout",
          "text": [
            "c is between a and b\n"
          ]
        }
      ]
    },
    {
      "cell_type": "code",
      "source": [
        "Suction_Pressure=input(\"Read the pressure\")\n",
        "Suction_Pressure=float(Suction_Pressure)\n",
        "Cut_Off= 250\n",
        "Cut_in= 225\n",
        "\n",
        "if Suction_Pressure > 230:\n",
        "  print(\"Suction_Pressure too high\")\n",
        "if len(name) <= 100:\n",
        "   print(\"Super_Heat is not in range\")\n",
        "if Suction_Pressure < 150:\n",
        "  print(\"Suction_Pressure going down fast\")\n",
        "elif Suction_Pressure >= 150 and Suction_Pressure < 220:\n",
        "  print(\"Suction_Pressure is too low\")\n",
        "  "
      ],
      "metadata": {
        "colab": {
          "base_uri": "https://localhost:8080/"
        },
        "id": "UZwKoAb6iiUa",
        "outputId": "f3dcf70f-1b09-4c58-d698-0c766100e9bf"
      },
      "execution_count": null,
      "outputs": [
        {
          "output_type": "stream",
          "name": "stdout",
          "text": [
            "Read the pressure250\n",
            "Suction_Pressure too high\n",
            "Super_Heat is not in range\n"
          ]
        }
      ]
    },
    {
      "cell_type": "code",
      "source": [
        "Suction_Pressure = input(\"Read the pressure: \")\n",
        "Suction_Pressure = float(Suction_Pressure)\n",
        "Cut_Off = 250\n",
        "Cut_in = 225\n",
        "\n",
        "if Suction_Pressure > 230:\n",
        "  print(\"Suction_Pressure too high\")\n",
        "elif Suction_Pressure < 150:\n",
        "  print(\"Suction_Pressure going down fast\")\n",
        "elif Suction_Pressure >= 150 and Suction_Pressure < 220:\n",
        "  print(\"Suction_Pressure is too low\")\n",
        "else:\n",
        "  print(\"Super_Heat is not in range\")"
      ],
      "metadata": {
        "colab": {
          "base_uri": "https://localhost:8080/"
        },
        "id": "jUz9NacZvn89",
        "outputId": "e512b1ee-662d-4a49-bbf1-c23dd6d58088"
      },
      "execution_count": null,
      "outputs": [
        {
          "output_type": "stream",
          "name": "stdout",
          "text": [
            "Read the pressure: 230\n",
            "Super_Heat is not in range\n"
          ]
        }
      ]
    },
    {
      "cell_type": "code",
      "source": [
        "#Loops; for and while command\n",
        "#For:\n",
        "\n",
        "myList=[7,2,4,10]\n",
        "for elt in myList:\n",
        "  print(elt)\n",
        "\n",
        "  \n"
      ],
      "metadata": {
        "colab": {
          "base_uri": "https://localhost:8080/"
        },
        "id": "BOYuLgZ6D1_n",
        "outputId": "2be2ac27-5283-4ea0-cd26-d2bd7693444f"
      },
      "execution_count": null,
      "outputs": [
        {
          "output_type": "stream",
          "name": "stdout",
          "text": [
            "7\n",
            "2\n",
            "4\n",
            "10\n"
          ]
        }
      ]
    },
    {
      "cell_type": "code",
      "source": [
        "myString=\"items\"\n",
        "for elt in myString:\n",
        " print(elt)"
      ],
      "metadata": {
        "colab": {
          "base_uri": "https://localhost:8080/"
        },
        "id": "sgl2xTlLY-i1",
        "outputId": "d8a17760-a4b3-4ba6-c985-36ab2556bcaf"
      },
      "execution_count": null,
      "outputs": [
        {
          "output_type": "stream",
          "name": "stdout",
          "text": [
            "i\n",
            "t\n",
            "e\n",
            "m\n",
            "s\n"
          ]
        }
      ]
    },
    {
      "cell_type": "code",
      "source": [
        "#Creating a collection\n",
        "\n",
        "#Quite often, you will find that you simply need to loop over a range of integer values, e.g. 0, 1, 2, 3….  This is the conventional loop you see most often in languages like Javascript or C++.  Because Python wants to loop over a collection, you need to create a collection containing your range of integer values.\n",
        "\n",
        "#To do this, you will use the   range(start, stop, step)  function, which will generate a collection of numbers according to three parameters:\n",
        "\n",
        "#start : the first number of the sequence.\n",
        "\n",
        "#stop  corresponds to the last number of the sequence, non-inclusive. The function will generate numbers from   start  to   stop-1.\n",
        "\n",
        "#step :  the step between each generated number.\n",
        "\n",
        "#Not all parameters are necessary. For example:\n",
        "\n",
        "#for i in range(0, 5, 1):\n",
        "\n",
        "for i in range(0,5,1):\n",
        "  print(i)\n",
        "\n",
        "  for i in range(0,5):\n",
        "    print(i)\n",
        "\n",
        "    for i in range(5):\n",
        "      print(i)\n",
        "\n",
        "    for i in range(0,5,2):\n",
        "      print(i)\n",
        "\n"
      ],
      "metadata": {
        "colab": {
          "base_uri": "https://localhost:8080/"
        },
        "id": "lwogxlxzZc9J",
        "outputId": "a5af7404-b80b-4cbb-a624-26ced06485c3"
      },
      "execution_count": null,
      "outputs": [
        {
          "output_type": "stream",
          "name": "stdout",
          "text": [
            "0\n",
            "0\n",
            "0\n",
            "1\n",
            "2\n",
            "3\n",
            "4\n",
            "0\n",
            "2\n",
            "4\n",
            "1\n",
            "0\n",
            "1\n",
            "2\n",
            "3\n",
            "4\n",
            "0\n",
            "2\n",
            "4\n",
            "2\n",
            "0\n",
            "1\n",
            "2\n",
            "3\n",
            "4\n",
            "0\n",
            "2\n",
            "4\n",
            "3\n",
            "0\n",
            "1\n",
            "2\n",
            "3\n",
            "4\n",
            "0\n",
            "2\n",
            "4\n",
            "4\n",
            "0\n",
            "1\n",
            "2\n",
            "3\n",
            "4\n",
            "0\n",
            "2\n",
            "4\n",
            "1\n",
            "0\n",
            "0\n",
            "1\n",
            "2\n",
            "3\n",
            "4\n",
            "0\n",
            "2\n",
            "4\n",
            "1\n",
            "0\n",
            "1\n",
            "2\n",
            "3\n",
            "4\n",
            "0\n",
            "2\n",
            "4\n",
            "2\n",
            "0\n",
            "1\n",
            "2\n",
            "3\n",
            "4\n",
            "0\n",
            "2\n",
            "4\n",
            "3\n",
            "0\n",
            "1\n",
            "2\n",
            "3\n",
            "4\n",
            "0\n",
            "2\n",
            "4\n",
            "4\n",
            "0\n",
            "1\n",
            "2\n",
            "3\n",
            "4\n",
            "0\n",
            "2\n",
            "4\n",
            "2\n",
            "0\n",
            "0\n",
            "1\n",
            "2\n",
            "3\n",
            "4\n",
            "0\n",
            "2\n",
            "4\n",
            "1\n",
            "0\n",
            "1\n",
            "2\n",
            "3\n",
            "4\n",
            "0\n",
            "2\n",
            "4\n",
            "2\n",
            "0\n",
            "1\n",
            "2\n",
            "3\n",
            "4\n",
            "0\n",
            "2\n",
            "4\n",
            "3\n",
            "0\n",
            "1\n",
            "2\n",
            "3\n",
            "4\n",
            "0\n",
            "2\n",
            "4\n",
            "4\n",
            "0\n",
            "1\n",
            "2\n",
            "3\n",
            "4\n",
            "0\n",
            "2\n",
            "4\n",
            "3\n",
            "0\n",
            "0\n",
            "1\n",
            "2\n",
            "3\n",
            "4\n",
            "0\n",
            "2\n",
            "4\n",
            "1\n",
            "0\n",
            "1\n",
            "2\n",
            "3\n",
            "4\n",
            "0\n",
            "2\n",
            "4\n",
            "2\n",
            "0\n",
            "1\n",
            "2\n",
            "3\n",
            "4\n",
            "0\n",
            "2\n",
            "4\n",
            "3\n",
            "0\n",
            "1\n",
            "2\n",
            "3\n",
            "4\n",
            "0\n",
            "2\n",
            "4\n",
            "4\n",
            "0\n",
            "1\n",
            "2\n",
            "3\n",
            "4\n",
            "0\n",
            "2\n",
            "4\n",
            "4\n",
            "0\n",
            "0\n",
            "1\n",
            "2\n",
            "3\n",
            "4\n",
            "0\n",
            "2\n",
            "4\n",
            "1\n",
            "0\n",
            "1\n",
            "2\n",
            "3\n",
            "4\n",
            "0\n",
            "2\n",
            "4\n",
            "2\n",
            "0\n",
            "1\n",
            "2\n",
            "3\n",
            "4\n",
            "0\n",
            "2\n",
            "4\n",
            "3\n",
            "0\n",
            "1\n",
            "2\n",
            "3\n",
            "4\n",
            "0\n",
            "2\n",
            "4\n",
            "4\n",
            "0\n",
            "1\n",
            "2\n",
            "3\n",
            "4\n",
            "0\n",
            "2\n",
            "4\n"
          ]
        }
      ]
    },
    {
      "cell_type": "code",
      "source": [
        "for i in range(0,5,1):\n",
        "  print(i)"
      ],
      "metadata": {
        "colab": {
          "base_uri": "https://localhost:8080/"
        },
        "id": "JvLKnN10nv1b",
        "outputId": "e8de2f0a-37c8-416d-da06-14f289e9d4b1"
      },
      "execution_count": null,
      "outputs": [
        {
          "output_type": "stream",
          "name": "stdout",
          "text": [
            "0\n",
            "1\n",
            "2\n",
            "3\n",
            "4\n"
          ]
        }
      ]
    },
    {
      "cell_type": "code",
      "source": [
        "for i in range(0,5):\n",
        "  print(i)"
      ],
      "metadata": {
        "colab": {
          "base_uri": "https://localhost:8080/"
        },
        "id": "XQUc2X62n3uX",
        "outputId": "1dc5d033-eec7-42ae-ca99-96660fd345e4"
      },
      "execution_count": null,
      "outputs": [
        {
          "output_type": "stream",
          "name": "stdout",
          "text": [
            "0\n",
            "1\n",
            "2\n",
            "3\n",
            "4\n"
          ]
        }
      ]
    },
    {
      "cell_type": "code",
      "source": [
        "for i in range(5):\n",
        "  print(i)"
      ],
      "metadata": {
        "colab": {
          "base_uri": "https://localhost:8080/"
        },
        "id": "nIE28XrYoAfI",
        "outputId": "bbfdee0d-67fb-4374-8541-b4c7e8077e63"
      },
      "execution_count": null,
      "outputs": [
        {
          "output_type": "stream",
          "name": "stdout",
          "text": [
            "0\n",
            "1\n",
            "2\n",
            "3\n",
            "4\n"
          ]
        }
      ]
    },
    {
      "cell_type": "code",
      "source": [
        "for i in range(0,5,2):\n",
        "  print(i)"
      ],
      "metadata": {
        "colab": {
          "base_uri": "https://localhost:8080/"
        },
        "id": "pnFo_sgOoIDm",
        "outputId": "501c700c-4c02-475e-ba76-b2bddb0d0ba1"
      },
      "execution_count": null,
      "outputs": [
        {
          "output_type": "stream",
          "name": "stdout",
          "text": [
            "0\n",
            "2\n",
            "4\n"
          ]
        }
      ]
    },
    {
      "cell_type": "code",
      "source": [
        "#While loop:\n",
        "\n",
        "#while expressionlogic:\n",
        "\n",
        "  #Here's how it works:\n",
        "\n",
        "#The program checks that expressionLogic  is equal to True.\n",
        "\n",
        "#If this is the case, the indented statements following the: are run. Once this is done, we return to step one.\n",
        "\n",
        "#Otherwise, the program exits the loop without running the statements.\n",
        "\n",
        "numberTrees = 0\n",
        "\n",
        "while numberTrees <10:\n",
        "  numberTrees += 1\n",
        "  print(\"I planted\", numberTrees, \"trees\")\n",
        "  print(\"I have a nice forest!\")"
      ],
      "metadata": {
        "colab": {
          "base_uri": "https://localhost:8080/"
        },
        "id": "2IHEkDvsrBha",
        "outputId": "9eafce01-2861-4dc5-fa92-d526ebc24d40"
      },
      "execution_count": null,
      "outputs": [
        {
          "output_type": "stream",
          "name": "stdout",
          "text": [
            "I planted 1 trees\n",
            "I have a nice forest!\n",
            "I planted 2 trees\n",
            "I have a nice forest!\n",
            "I planted 3 trees\n",
            "I have a nice forest!\n",
            "I planted 4 trees\n",
            "I have a nice forest!\n",
            "I planted 5 trees\n",
            "I have a nice forest!\n",
            "I planted 6 trees\n",
            "I have a nice forest!\n",
            "I planted 7 trees\n",
            "I have a nice forest!\n",
            "I planted 8 trees\n",
            "I have a nice forest!\n",
            "I planted 9 trees\n",
            "I have a nice forest!\n",
            "I planted 10 trees\n",
            "I have a nice forest!\n"
          ]
        }
      ]
    },
    {
      "cell_type": "code",
      "source": [
        "numberTrees = 0\n",
        "\n",
        "while numberTrees < 10:\n",
        "    numberTrees += 1\n",
        "    print(\"I planted\", numberTrees, \"trees\")\n",
        "\n",
        "print(\"I have a nice forest!\")"
      ],
      "metadata": {
        "colab": {
          "base_uri": "https://localhost:8080/"
        },
        "id": "Mpn74KTKtTab",
        "outputId": "43474670-718c-403a-9f61-7041f57f89da"
      },
      "execution_count": null,
      "outputs": [
        {
          "output_type": "stream",
          "name": "stdout",
          "text": [
            "I planted 1 trees\n",
            "I planted 2 trees\n",
            "I planted 3 trees\n",
            "I planted 4 trees\n",
            "I planted 5 trees\n",
            "I planted 6 trees\n",
            "I planted 7 trees\n",
            "I planted 8 trees\n",
            "I planted 9 trees\n",
            "I planted 10 trees\n",
            "I have a nice forest!\n"
          ]
        }
      ]
    },
    {
      "cell_type": "code",
      "source": [
        " \n",
        "numberTrees = 0\n",
        "while numberTrees < 10:\n",
        "    numberTrees += 1\n",
        "    print(\"I planted\", numberTrees, \"trees\")\n",
        "print(\"I have a nice forest!\")"
      ],
      "metadata": {
        "colab": {
          "base_uri": "https://localhost:8080/"
        },
        "id": "3HXc1IYLujBN",
        "outputId": "6eb4dacf-b3b0-4c54-86d7-79348813fbff"
      },
      "execution_count": null,
      "outputs": [
        {
          "output_type": "stream",
          "name": "stdout",
          "text": [
            "I planted 1 trees\n",
            "I planted 2 trees\n",
            "I planted 3 trees\n",
            "I planted 4 trees\n",
            "I planted 5 trees\n",
            "I planted 6 trees\n",
            "I planted 7 trees\n",
            "I planted 8 trees\n",
            "I planted 9 trees\n",
            "I planted 10 trees\n",
            "I have a nice forest!\n"
          ]
        }
      ]
    },
    {
      "cell_type": "code",
      "source": [
        "numberTrees = 0\n",
        "while numberTrees <10:\n",
        "  numberTrees += 1\n",
        "print(\"I planted\", numberTrees, \"trees\")\n",
        "print(\"I have a nice forest!\")"
      ],
      "metadata": {
        "colab": {
          "base_uri": "https://localhost:8080/"
        },
        "id": "2g054Y0GusSX",
        "outputId": "f6cfdc95-69f2-497d-9b1d-436b8c412aa0"
      },
      "execution_count": null,
      "outputs": [
        {
          "output_type": "stream",
          "name": "stdout",
          "text": [
            "I planted 10 trees\n",
            "I have a nice forest!\n"
          ]
        }
      ]
    },
    {
      "cell_type": "code",
      "source": [
        "numberTrees = 0\n",
        "\n",
        "while numberTrees < 10:\n",
        "    numberTrees += 1\n",
        "    print(\"I planted\", numberTrees, \"trees\")\n",
        "\n",
        "print(\"I have a nice forest!\")"
      ],
      "metadata": {
        "colab": {
          "base_uri": "https://localhost:8080/"
        },
        "id": "5mVlVGysvSn6",
        "outputId": "f5ff1a65-ddb6-4827-8487-06676787a09e"
      },
      "execution_count": null,
      "outputs": [
        {
          "output_type": "stream",
          "name": "stdout",
          "text": [
            "I planted 1 trees\n",
            "I planted 2 trees\n",
            "I planted 3 trees\n",
            "I planted 4 trees\n",
            "I planted 5 trees\n",
            "I planted 6 trees\n",
            "I planted 7 trees\n",
            "I planted 8 trees\n",
            "I planted 9 trees\n",
            "I planted 10 trees\n",
            "I have a nice forest!\n"
          ]
        }
      ]
    },
    {
      "cell_type": "code",
      "source": [
        "#This is a mistake that could get your code to an infinity run. Be careful\n",
        "\n",
        "theSunIsShining = True\n",
        "\n",
        "while theSunIsShining: \n",
        "  print(\"Stay awake\")\n",
        "  print(\"go to sleep\")"
      ],
      "metadata": {
        "id": "uJeY2tMw2fQ6"
      },
      "execution_count": null,
      "outputs": []
    },
    {
      "cell_type": "code",
      "source": [
        "for i in range(5):\n",
        "    print(\"OpenClassrooms is really great!\")"
      ],
      "metadata": {
        "colab": {
          "base_uri": "https://localhost:8080/"
        },
        "id": "HczGfy7I7Eba",
        "outputId": "cc54cc34-b403-4196-ae10-8260d92b166b"
      },
      "execution_count": null,
      "outputs": [
        {
          "output_type": "stream",
          "name": "stdout",
          "text": [
            "OpenClassrooms is really great!\n",
            "OpenClassrooms is really great!\n",
            "OpenClassrooms is really great!\n",
            "OpenClassrooms is really great!\n",
            "OpenClassrooms is really great!\n"
          ]
        }
      ]
    },
    {
      "cell_type": "code",
      "source": [
        "i = 0\n",
        "while i < 5:\n",
        "    print(\"OpenClassrooms is really great!\")\n",
        "    i += 1"
      ],
      "metadata": {
        "colab": {
          "base_uri": "https://localhost:8080/"
        },
        "id": "-usROxNH7G9R",
        "outputId": "76dbbae7-f4b6-43d1-c191-0b7e3a047b7a"
      },
      "execution_count": null,
      "outputs": [
        {
          "output_type": "stream",
          "name": "stdout",
          "text": [
            "OpenClassrooms is really great!\n",
            "OpenClassrooms is really great!\n",
            "OpenClassrooms is really great!\n",
            "OpenClassrooms is really great!\n",
            "OpenClassrooms is really great!\n"
          ]
        }
      ]
    },
    {
      "cell_type": "code",
      "source": [
        "#For example, you want to repeat something 10 times, but skip (at least partially) \n",
        "#when the value is 2 or 5. In Python, to force the start of the next loop iteration, use the keyword continue:\n",
        "\n",
        "for i in range(10):\n",
        "  print(i)\n",
        "  if(i==2) or (i==5):\n",
        "   print(\"Special case\")\n",
        "  continue\n",
        "print(\"i! = 2 & i != 5\")"
      ],
      "metadata": {
        "colab": {
          "base_uri": "https://localhost:8080/"
        },
        "id": "JEazyf7Y7-hp",
        "outputId": "d2c4774c-2b15-40db-ba11-33c1517d300a"
      },
      "execution_count": null,
      "outputs": [
        {
          "output_type": "stream",
          "name": "stdout",
          "text": [
            "0\n",
            "1\n",
            "2\n",
            "Special case\n",
            "3\n",
            "4\n",
            "5\n",
            "Special case\n",
            "6\n",
            "7\n",
            "8\n",
            "9\n",
            "i! = 2 & i != 5\n"
          ]
        }
      ]
    },
    {
      "cell_type": "code",
      "source": [
        "#You can also decide to interrupt the loop, for example when looking for a particular item in a list. For this, \n",
        "#you will use the \"break\"  keyword.\n",
        "\n",
        "basket=[\"apple\", \"orange\", \"banana\"]\n",
        "for fruit in basket:\n",
        "  if fruit == \"orange\":\n",
        "    print(\"I have an orange\")\n",
        "    break\n",
        "\n",
        "#Let's Recap\n",
        "#In this chapter, you have discovered two types of loops:\n",
        "\n",
        "#The loop for repeating an action a certain number of times, or according to a sequence: the for loop.\n",
        "\n",
        "#The loop that allows you to repeat an action as long as a condition is true: the while loop.\n",
        "\n",
        "#There is a common mistake that you must not make with the while loop: the infinite loop!\n",
        "\n",
        "#You can choose to skip certain loop iterations via the continue keyword.\n",
        "\n",
        "#The cycles of the loop can be interrupted via the break command.\n",
        "\n",
        "#Now that you have seen how to control your program flow, you can broaden your horizons with the discovery of modules and libraries!"
      ],
      "metadata": {
        "colab": {
          "base_uri": "https://localhost:8080/"
        },
        "id": "a9wQOMjv9i1r",
        "outputId": "b9db36de-02a4-460b-c327-68c36a03f7b2"
      },
      "execution_count": null,
      "outputs": [
        {
          "output_type": "stream",
          "name": "stdout",
          "text": [
            "I have an orange\n"
          ]
        }
      ]
    },
    {
      "cell_type": "code",
      "source": [
        "#test\n",
        "\n",
        "\n",
        "#print(num)\n",
        "#{'one': 1 , 'two': 3}\n",
        "#into:\n",
        "#{'one': 1 , 'two': 2}\n",
        "\n",
        "num= {'one': 1, 'two': 3}\n",
        "num['two']=2\n",
        "print(num)\n",
        "\n",
        "\n"
      ],
      "metadata": {
        "colab": {
          "base_uri": "https://localhost:8080/"
        },
        "id": "KGjT1ufBV-jv",
        "outputId": "75defd02-0fa1-4e16-9d51-db136a47c7d4"
      },
      "execution_count": null,
      "outputs": [
        {
          "output_type": "stream",
          "name": "stdout",
          "text": [
            "{'one': 1, 'two': 2}\n"
          ]
        }
      ]
    },
    {
      "cell_type": "code",
      "source": [
        "if 'bar' in {'foo': 1, 'bar': 2, 'baz': 3}:\n",
        "   print(1)\n",
        "   print(2)\n",
        "   if 'a' in 'qux':\n",
        "      print(3)\n",
        "print(4)"
      ],
      "metadata": {
        "colab": {
          "base_uri": "https://localhost:8080/"
        },
        "id": "jpTccERtaHGR",
        "outputId": "bf33bcc3-217c-4c99-99bc-649a79c1ae98"
      },
      "execution_count": null,
      "outputs": [
        {
          "output_type": "stream",
          "name": "stdout",
          "text": [
            "1\n",
            "2\n",
            "4\n"
          ]
        }
      ]
    },
    {
      "cell_type": "code",
      "source": [
        "d = {'a': 0, 'b': 1, 'c': 0}\n",
        "\n",
        "if d['a'] > 0:\n",
        "   print('yeah!')\n",
        "elif d['b'] > 0:\n",
        "   print('yeah!')\n",
        "elif d['c'] > 0:\n",
        "   print('ok')\n",
        "elif d['d'] > 0:\n",
        "   print('ok')\n",
        "else:\n",
        "   print('not ok')"
      ],
      "metadata": {
        "colab": {
          "base_uri": "https://localhost:8080/"
        },
        "id": "QSBSSxaraUpX",
        "outputId": "63180a82-60a5-415a-e0a8-4b8647f1a214"
      },
      "execution_count": null,
      "outputs": [
        {
          "output_type": "stream",
          "name": "stdout",
          "text": [
            "yeah!\n"
          ]
        }
      ]
    },
    {
      "cell_type": "code",
      "source": [
        "a = ['foo', 'bar', 'baz', 'qux', 'corge']\n",
        " \n",
        "while a:\n",
        "   if len(a) < 3:\n",
        "      break\n",
        "   print(a.pop())\n",
        "print('Done.')"
      ],
      "metadata": {
        "colab": {
          "base_uri": "https://localhost:8080/"
        },
        "id": "qSWd_RhQanZ-",
        "outputId": "4c05f3f1-f9dc-48e6-b589-d74507bdf5cf"
      },
      "execution_count": null,
      "outputs": [
        {
          "output_type": "stream",
          "name": "stdout",
          "text": [
            "corge\n",
            "qux\n",
            "baz\n",
            "Done.\n"
          ]
        }
      ]
    },
    {
      "cell_type": "code",
      "source": [
        "#Modules at python\n",
        "\n",
        "#A module is a Python file containing a set of predefined and operational functions, classes, and variables, which you can use as you wish in your code!\n",
        "\n",
        "#For example, if you are working on a problem involving geometry, you might need:\n",
        "\n",
        "#classes:\n",
        "\n",
        "#Square—defined by the length of its side\n",
        "\n",
        "#Triangle—defined by the length of its three sides\n",
        "\n",
        "#Circle—defined by its radius.\n",
        "\n",
        "#variables:\n",
        "\n",
        "#Pi: constant necessary for calculating the area of a circle, equal to 3.1415...\n",
        "\n",
        "#Phi: constant that represents the golden ratio, equal to 1.6180...\n",
        "\n",
        "#functions:\n",
        "\n",
        "#Area: takes as parameter a geometrical object (square, triangle, etc.) and calculates its area\n",
        "\n",
        "#Angles: takes a triangle as a parameter, and calculates its internal angles\n",
        "\n",
        "\n",
        "'''\n",
        "Module geometry.py\n",
        "'''\n",
        "# variables\n",
        "pi = 3.14159265359\n",
        "phi = 1.6180\n",
        "\n",
        "# function that calculates the area\n",
        "def area(obj):\n",
        "    if type(obj) == square:\n",
        "        return obj.a**2\n",
        "\n",
        "# definitions of some classes\n",
        "class square(object):\n",
        "    def __init__(self,a):\n",
        "        self.a = a\n",
        "\n",
        "class triangle(object):\n",
        "    def __init__(self,a,b,c):\n",
        "        self.a = a\n",
        "        self.b = b\n",
        "        self.c = c\n",
        "\n",
        "import geometry\n",
        "\n",
        "#After doing this, you can use the different items defined in your module:\n",
        "\n",
        "squa = geometry.square(4)\n",
        "tri = geometry.triangle(3, 6, 5)\n",
        "\n",
        "print(geometry.pi) # -> 3.14159265359\n",
        "\n",
        "geometry.area(squa) # -> 16\n",
        "\n",
        "#All items included in the geometry module can be used via the   moduleName.  notation, i.e.,  moduleName.function()  or   moduleName.variable. So, in the above example, we can use  geometry.area()  or  geometry.pi. If you don't want to rewrite geometry every time, you have two other options:\n",
        "\n",
        "#Either give an alias to the name of your module, so you only have to write the alias:\n",
        "\n",
        "import geometry as geo # we can now access geo.area() or geo.pi\n",
        "Or, import specific functions that you can then use as native Python functions/variables (without the  .  notation):\n",
        "\n",
        "from geometry import pi\n",
        "print(pi) # -> 3.14159265359\n",
        "\n",
        "\n",
        "#A particular case of this last method is to import in one line all the objects contained in a module via the  *  notation. However, this is not the recommended method, in order to avoid, for example, conflicts between several modules that might have identical function names.\n",
        "\n",
        "from geometry import *\n",
        "\n",
        "#When a Module is Not Enough: Packages\n",
        "#A package (sometimes called a library) is a collection, a set of Python modules. As you have seen above, a module is a Python file. A package is simply a folder containing several Python files (.py) and an additional file named   __init__.py. This differentiates a package from an ordinary folder containing only Python codes.\n",
        "\n",
        "#For example, you could have stored your geometry module in three different files instead of just one:\n",
        "\n",
        "#One for classes: classes.py\n",
        "\n",
        "#One for variables: variables.py\n",
        "\n",
        "#One for functions: functions.py\n",
        "\n",
        "#You will need to use the . operator to access the module after importing the package:\n",
        "\n",
        "import geometry # import all the geometry package\n",
        "\n",
        "print(geometry.variables.pi) # -> 3.1415...\n",
        "squa = geometry.classes.square(4)\n",
        "geometry.functions.area(squa) # -> 16\n",
        "\n",
        "#Or, you can also import only one module from the package:\n",
        "\n",
        "import geometry.variables as var # import only what is defined in variables.py\n",
        "\n",
        "print(var.pi) # -> 3.1415...\n",
        "\n",
        "#Packages in Data Analysis\n",
        "\n",
        "#Packages are ubiquitous in data analysis with Python. Indeed, many packages have been created specifically to address the issues that this subject involves. As you progress, you will be required to:\n",
        "\n",
        "#manipulate your data to facilitate analysis.\n",
        "\n",
        "#make various relevant graphs representing the behavior of your data.\n",
        "\n",
        "#use statistical methods.\n",
        "\n",
        "#run machine learning algorithms of varying complexity. And to achieve all this, you will need to master the various objects and functions from the corresponding packages.\n",
        "\n",
        "#You come back to your initial problem (having a square root function), there is for example the numpy package which offers the necessary function—and many other things!\n",
        "\n",
        "import numpy as np\n",
        "\n",
        "np.sqrt(16) # -> 4.0\n",
        "\n",
        "#In order to solidify the concept of packages, we will look at a concrete example of the use of therandom package in the next chapter.\n",
        "\n",
        "#Let's Recap\n",
        "\n",
        "#In this chapter, together we have seen the basics of using modules and packages:\n",
        "\n",
        "#A module is a file containing Python code (.py extension) that can define functions, classes, and/or variables.\n",
        "\n",
        "#You can import any Python module via the import keyword.\n",
        "\n",
        "#To use a function class or a variable within a module, you must use the  .  operator.\n",
        "\n",
        "#A package is a set of several Python modules.\n",
        "\n",
        "\n",
        "\n"
      ],
      "metadata": {
        "id": "8NwsOoT4h4XE"
      },
      "execution_count": null,
      "outputs": []
    },
    {
      "cell_type": "code",
      "source": [
        "#Manipulate random numbers with random modules\n",
        "\n",
        "import random\n",
        "\n",
        "for i in range(3):\n",
        "  print(random.random())\n"
      ],
      "metadata": {
        "colab": {
          "base_uri": "https://localhost:8080/"
        },
        "id": "03fe5ATZmqac",
        "outputId": "2bb787fa-a4dc-4905-d3e2-fc54eb651ec9"
      },
      "execution_count": null,
      "outputs": [
        {
          "output_type": "stream",
          "name": "stdout",
          "text": [
            "0.24188138585840946\n",
            "0.37433852893080743\n",
            "0.7361951529970312\n"
          ]
        }
      ]
    },
    {
      "cell_type": "code",
      "source": [
        "print('Example of the uniform function:')\n",
        "for i in range (3):\n",
        "  print(random.uniform(5,10))\n",
        "\n",
        "  print('_ _ _ _ _ _ _ _ _ _ _ _ _ _ _ _')\n",
        "  print('Example of the randint function:')\n",
        "  for i in range (3):\n",
        "    print(random.randint(5,10))\n",
        "    "
      ],
      "metadata": {
        "colab": {
          "base_uri": "https://localhost:8080/"
        },
        "id": "DNWk21zzuDrV",
        "outputId": "e0d5ae8d-b0ff-4e4c-bf8b-4cfb2814a8cd"
      },
      "execution_count": null,
      "outputs": [
        {
          "output_type": "stream",
          "name": "stdout",
          "text": [
            "Example of the uniform function:\n",
            "5.829687409443457\n",
            "_ _ _ _ _ _ _ _ _ _ _ _ _ _ _ _\n",
            "Example of the randint function:\n",
            "8\n",
            "10\n",
            "7\n",
            "8.224188045436513\n",
            "_ _ _ _ _ _ _ _ _ _ _ _ _ _ _ _\n",
            "Example of the randint function:\n",
            "10\n",
            "7\n",
            "9\n",
            "7.074047192956522\n",
            "_ _ _ _ _ _ _ _ _ _ _ _ _ _ _ _\n",
            "Example of the randint function:\n",
            "10\n",
            "5\n",
            "7\n"
          ]
        }
      ]
    },
    {
      "cell_type": "code",
      "source": [
        "import random\n",
        "\n",
        "# Roll two dice\n",
        "dice1 = random.uniform(1, 6)\n",
        "dice2 = random.uniform(1, 6)\n",
        "\n",
        "# Print the result\n",
        "print(\"You rolled\", dice1, \"and\", dice2)"
      ],
      "metadata": {
        "colab": {
          "base_uri": "https://localhost:8080/"
        },
        "id": "d05TQa53xEW-",
        "outputId": "054b3247-b050-437b-83ea-821cc9776fe7"
      },
      "execution_count": null,
      "outputs": [
        {
          "output_type": "stream",
          "name": "stdout",
          "text": [
            "You rolled 4.137534927416981 and 5.371610552355309\n"
          ]
        }
      ]
    },
    {
      "cell_type": "code",
      "source": [
        "import random\n",
        "\n",
        "# Generate random coordinates in a 2D plane\n",
        "x = random.uniform(-1.0, 1.0)\n",
        "y = random.uniform(-1.0, 1.0)\n",
        "\n",
        "# Print the coordinates\n",
        "print(\"Random coordinates:\", x, y)"
      ],
      "metadata": {
        "colab": {
          "base_uri": "https://localhost:8080/"
        },
        "id": "NdKEoy6KxbR5",
        "outputId": "f5517db5-1585-4bdb-cda0-f91cf016a99c"
      },
      "execution_count": null,
      "outputs": [
        {
          "output_type": "stream",
          "name": "stdout",
          "text": [
            "Random coordinates: -0.9852979743121504 -0.8527958369096678\n"
          ]
        }
      ]
    },
    {
      "cell_type": "code",
      "source": [
        "import random\n",
        "\n",
        "# Simulate the stock price of a company\n",
        "price = 100.00\n",
        "\n",
        "# Generate random price changes for 30 days\n",
        "for i in range(30):\n",
        "    change = random.uniform(-5.0, 5.0)\n",
        "    price = price + change\n",
        "\n",
        "# Print the final price\n",
        "print(\"Final price:\", price)"
      ],
      "metadata": {
        "colab": {
          "base_uri": "https://localhost:8080/"
        },
        "id": "w-7PNAVsx5V0",
        "outputId": "c43708d5-5d7f-47ae-db6c-91d8d524d394"
      },
      "execution_count": null,
      "outputs": [
        {
          "output_type": "stream",
          "name": "stdout",
          "text": [
            "Final price: 84.3826111479607\n"
          ]
        }
      ]
    },
    {
      "cell_type": "code",
      "source": [
        "import random\n",
        "\n",
        "# generate a random integer between 1 and 10\n",
        "x = random.randint(1, 10)\n",
        "print(x)\n",
        "\n",
        "# generate a random integer between 0 and 100\n",
        "y = random.randint(0, 100)\n",
        "print(y)"
      ],
      "metadata": {
        "colab": {
          "base_uri": "https://localhost:8080/"
        },
        "id": "SYl46CMq0aHv",
        "outputId": "44cc291c-0147-427b-ffbf-d8986411999d"
      },
      "execution_count": null,
      "outputs": [
        {
          "output_type": "stream",
          "name": "stdout",
          "text": [
            "8\n",
            "76\n"
          ]
        }
      ]
    },
    {
      "cell_type": "code",
      "source": [
        "import random\n",
        "\n",
        "# create a list of seats on the plane\n",
        "seats = [f\"{i}{j}\" for i in [\"A\", \"B\", \"C\", \"D\", \"E\", \"F\"] for j in range(1, 31)]\n",
        "\n",
        "# shuffle the seats to assign them randomly\n",
        "random.shuffle(seats)\n",
        "\n",
        "# generate a list of passengers\n",
        "passengers = [\"Alice\", \"Bob\", \"Charlie\", \"Dave\", \"Eve\", \"Frank\", \"Grace\", \"Heidi\", \"Ivan\", \"Judy\"]\n",
        "\n",
        "# assign seats to passengers\n",
        "for i, passenger in enumerate(passengers):\n",
        "    seat = seats[i]\n",
        "    print(f\"{passenger} has been assigned seat {seat}.\")"
      ],
      "metadata": {
        "colab": {
          "base_uri": "https://localhost:8080/"
        },
        "id": "f0nugtau1mxv",
        "outputId": "8bddf1fe-2f8c-448e-e9a5-d961de24f4ca"
      },
      "execution_count": null,
      "outputs": [
        {
          "output_type": "stream",
          "name": "stdout",
          "text": [
            "Alice has been assigned seat B5.\n",
            "Bob has been assigned seat D25.\n",
            "Charlie has been assigned seat F22.\n",
            "Dave has been assigned seat C11.\n",
            "Eve has been assigned seat D17.\n",
            "Frank has been assigned seat C10.\n",
            "Grace has been assigned seat A25.\n",
            "Heidi has been assigned seat D4.\n",
            "Ivan has been assigned seat E9.\n",
            "Judy has been assigned seat E30.\n"
          ]
        }
      ]
    },
    {
      "cell_type": "code",
      "source": [
        "import random\n",
        "\n",
        "# create a list of seats on the plane\n",
        "seats = [f\"{i}{j}\" for i in [\"A\", \"B\", \"C\", \"D\", \"E\", \"F\"] for j in range(1, 31)]\n",
        "\n",
        "# generate a list of passengers\n",
        "passengers = [\"Alice\", \"Bob\", \"Charlie\", \"Dave\", \"Eve\", \"Frank\", \"Grace\", \"Heidi\", \"Ivan\", \"Judy\"]\n",
        "\n",
        "# assign seats to passengers\n",
        "for passenger in passengers:\n",
        "    seat = random.choice(seats)\n",
        "    seats.remove(seat)\n",
        "    print(f\"{passenger} has been assigned seat {seat}.\")"
      ],
      "metadata": {
        "colab": {
          "base_uri": "https://localhost:8080/"
        },
        "id": "1JEJUhJi2VTf",
        "outputId": "8eb66949-7c50-4fe7-c341-2c99b4f6941d"
      },
      "execution_count": null,
      "outputs": [
        {
          "output_type": "stream",
          "name": "stdout",
          "text": [
            "Alice has been assigned seat F10.\n",
            "Bob has been assigned seat A1.\n",
            "Charlie has been assigned seat E24.\n",
            "Dave has been assigned seat C22.\n",
            "Eve has been assigned seat D11.\n",
            "Frank has been assigned seat F30.\n",
            "Grace has been assigned seat B15.\n",
            "Heidi has been assigned seat D14.\n",
            "Ivan has been assigned seat F23.\n",
            "Judy has been assigned seat E12.\n"
          ]
        }
      ]
    },
    {
      "cell_type": "code",
      "source": [
        "import random\n",
        "import statistics\n",
        "\n",
        "# previous strength data (in MPa)\n",
        "data = [54.2, 51.9, 53.7, 53.5, 52.1, 53.6, 52.8, 53.1, 53.9, 52.7]\n",
        "\n",
        "# calculate mean and standard deviation\n",
        "mean = statistics.mean(data)\n",
        "stdev = statistics.stdev(data)\n",
        "\n",
        "# generate 10 random strength values\n",
        "for i in range(10):\n",
        "    strength = random.normalvariate(mean, stdev)\n",
        "    print(f\"Random strength value {i+1}: {strength:.2f} MPa\")"
      ],
      "metadata": {
        "colab": {
          "base_uri": "https://localhost:8080/"
        },
        "id": "ZiWw-knh4F4K",
        "outputId": "d5a8fcfa-a35c-4643-c4a5-0c30231ae8ca"
      },
      "execution_count": null,
      "outputs": [
        {
          "output_type": "stream",
          "name": "stdout",
          "text": [
            "Random strength value 1: 52.11 MPa\n",
            "Random strength value 2: 53.64 MPa\n",
            "Random strength value 3: 52.63 MPa\n",
            "Random strength value 4: 52.66 MPa\n",
            "Random strength value 5: 53.42 MPa\n",
            "Random strength value 6: 54.03 MPa\n",
            "Random strength value 7: 52.44 MPa\n",
            "Random strength value 8: 52.44 MPa\n",
            "Random strength value 9: 52.49 MPa\n",
            "Random strength value 10: 52.43 MPa\n"
          ]
        }
      ]
    },
    {
      "cell_type": "code",
      "source": [
        "numbers=[1,2,3,4,5]\n",
        "for num in numbers:\n",
        "  print(num)\n",
        "\n",
        " \n"
      ],
      "metadata": {
        "colab": {
          "base_uri": "https://localhost:8080/"
        },
        "id": "vQTlYKSBeyRG",
        "outputId": "c9274db2-d4b5-44eb-dad2-a2615220457a"
      },
      "execution_count": null,
      "outputs": [
        {
          "output_type": "stream",
          "name": "stdout",
          "text": [
            "1\n",
            "2\n",
            "3\n",
            "4\n",
            "5\n"
          ]
        }
      ]
    },
    {
      "cell_type": "code",
      "source": [
        " for i in range(7):\n",
        "    print (i)"
      ],
      "metadata": {
        "colab": {
          "base_uri": "https://localhost:8080/"
        },
        "id": "UVlcMq4dg8ix",
        "outputId": "287451db-52ce-4c3d-e4a2-7e66e1719cc2"
      },
      "execution_count": null,
      "outputs": [
        {
          "output_type": "stream",
          "name": "stdout",
          "text": [
            "0\n",
            "1\n",
            "2\n",
            "3\n",
            "4\n",
            "5\n",
            "6\n"
          ]
        }
      ]
    },
    {
      "cell_type": "code",
      "source": [
        "voltages= [12,15,18,22,24]\n",
        "resistance= 10\n",
        "for voltage in voltages:\n",
        "  power=(voltage**2)/resistance\n",
        "  print(power)"
      ],
      "metadata": {
        "colab": {
          "base_uri": "https://localhost:8080/"
        },
        "id": "C0AyzaT5iKhM",
        "outputId": "30d92abf-dce6-48e7-fb51-02da118f0487"
      },
      "execution_count": null,
      "outputs": [
        {
          "output_type": "stream",
          "name": "stdout",
          "text": [
            "14.4\n",
            "22.5\n",
            "32.4\n",
            "48.4\n",
            "57.6\n"
          ]
        }
      ]
    },
    {
      "cell_type": "code",
      "source": [
        "voltages= [12,15,18,22,24]\n",
        "resistance= 10\n",
        "for voltage in voltages:\n",
        "  power=(voltage**2)/resistance\n",
        "  print(f\"Voltage: {voltage} V, Power: {power:.2f} W\")"
      ],
      "metadata": {
        "colab": {
          "base_uri": "https://localhost:8080/"
        },
        "id": "cTIRANPukPMO",
        "outputId": "a1c11494-4dac-415d-df6d-cba3bb0b5fe7"
      },
      "execution_count": null,
      "outputs": [
        {
          "output_type": "stream",
          "name": "stdout",
          "text": [
            "Voltage: 12 V, Power: 14.40 W\n",
            "Voltage: 15 V, Power: 22.50 W\n",
            "Voltage: 18 V, Power: 32.40 W\n",
            "Voltage: 22 V, Power: 48.40 W\n",
            "Voltage: 24 V, Power: 57.60 W\n"
          ]
        }
      ]
    },
    {
      "cell_type": "code",
      "source": [],
      "metadata": {
        "id": "VOgLCtjmmGyJ"
      },
      "execution_count": null,
      "outputs": []
    },
    {
      "cell_type": "code",
      "source": [
        "voltages= [12,15,18,22,24]\n",
        "resistance= 10\n",
        "for voltage in voltages:\n",
        "  power=(voltage**2)/resistance\n",
        "  print(f\"Voltage: {voltage} V, Power: {power:f} W\")"
      ],
      "metadata": {
        "colab": {
          "base_uri": "https://localhost:8080/"
        },
        "id": "Fl0wJvJLlnbU",
        "outputId": "fc5a4e01-110a-43f8-b82d-af144ec291c5"
      },
      "execution_count": null,
      "outputs": [
        {
          "output_type": "stream",
          "name": "stdout",
          "text": [
            "Voltage: 12 V, Power: 14.400000 W\n",
            "Voltage: 15 V, Power: 22.500000 W\n",
            "Voltage: 18 V, Power: 32.400000 W\n",
            "Voltage: 22 V, Power: 48.400000 W\n",
            "Voltage: 24 V, Power: 57.600000 W\n"
          ]
        }
      ]
    },
    {
      "cell_type": "code",
      "source": [
        "voltages= [12,15,18,22,24]\n",
        "resistance= 10\n",
        "for voltage in voltages:\n",
        "  power=(voltage**2)/resistance\n",
        "  print(f\"Voltage: {voltage} V, Power: {power} W\")"
      ],
      "metadata": {
        "colab": {
          "base_uri": "https://localhost:8080/"
        },
        "id": "f8eev-HhlwFX",
        "outputId": "5df7fb47-67ad-40ce-e694-723bc0fd45ec"
      },
      "execution_count": null,
      "outputs": [
        {
          "output_type": "stream",
          "name": "stdout",
          "text": [
            "Voltage: 12 V, Power: 14.4 W\n",
            "Voltage: 15 V, Power: 22.5 W\n",
            "Voltage: 18 V, Power: 32.4 W\n",
            "Voltage: 22 V, Power: 48.4 W\n",
            "Voltage: 24 V, Power: 57.6 W\n"
          ]
        }
      ]
    },
    {
      "cell_type": "code",
      "source": [
        "n=10\n",
        "sum=0\n",
        "for i in range(1,n+1):\n",
        "  sum +=i\n",
        "  print(f'the sum of the first {n} natural numbers is: {sum}')"
      ],
      "metadata": {
        "colab": {
          "base_uri": "https://localhost:8080/"
        },
        "id": "qgTCdX95nD26",
        "outputId": "231e6752-831d-4c23-c922-f40ac0ed030e"
      },
      "execution_count": null,
      "outputs": [
        {
          "output_type": "stream",
          "name": "stdout",
          "text": [
            "the sum of the first 10 natural numbers is: 1\n",
            "the sum of the first 10 natural numbers is: 3\n",
            "the sum of the first 10 natural numbers is: 6\n",
            "the sum of the first 10 natural numbers is: 10\n",
            "the sum of the first 10 natural numbers is: 15\n",
            "the sum of the first 10 natural numbers is: 21\n",
            "the sum of the first 10 natural numbers is: 28\n",
            "the sum of the first 10 natural numbers is: 36\n",
            "the sum of the first 10 natural numbers is: 45\n",
            "the sum of the first 10 natural numbers is: 55\n"
          ]
        }
      ]
    },
    {
      "cell_type": "code",
      "source": [
        "celsius_temperatures = [0,10,20,30,40]\n",
        "fahrenheit_temperatures=[]\n",
        "for temp in celsius_temperatures:\n",
        "  f_temp = (temp * 1.8) + 32\n",
        "  fahrenheit_temperatures.append(f_temp)\n",
        "\n",
        "\n",
        "print(\"Celsius Temperatures:\", celsius_temperatures)\n",
        "print(\"Fahrenheit Temperatures:\", fahrenheit_temperatures)"
      ],
      "metadata": {
        "colab": {
          "base_uri": "https://localhost:8080/"
        },
        "id": "p0zeo0vjzTto",
        "outputId": "0ce9cbf4-941a-4672-c60e-d5a48076bfe7"
      },
      "execution_count": null,
      "outputs": [
        {
          "output_type": "stream",
          "name": "stdout",
          "text": [
            "Celsius Temperatures: [0, 10, 20, 30, 40]\n",
            "Fahrenheit Temperatures: [32.0, 50.0, 68.0, 86.0, 104.0]\n"
          ]
        }
      ]
    }
  ]
}